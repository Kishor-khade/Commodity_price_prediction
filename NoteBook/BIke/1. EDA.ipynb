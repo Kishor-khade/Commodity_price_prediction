{
 "cells": [
  {
   "attachments": {},
   "cell_type": "markdown",
   "metadata": {},
   "source": [
    "# Bike Price Prediction\n",
    "\n"
   ]
  },
  {
   "attachments": {},
   "cell_type": "markdown",
   "metadata": {},
   "source": [
    "### Life Cycle of ML Project\n",
    "- Understanding the problem\n",
    "- Data Collection\n",
    "- Data Checks to perform \n",
    "- Exploratory data analysis\n",
    "- Data Pre-processing"
   ]
  },
  {
   "attachments": {},
   "cell_type": "markdown",
   "metadata": {},
   "source": [
    "## 1) Problem Statement\n",
    "- This project understands how the student's performance (test score) is affected by other variables such as amount, cc_type, kms_driven. "
   ]
  },
  {
   "attachments": {},
   "cell_type": "markdown",
   "metadata": {},
   "source": [
    "## 2) Data Collection\n",
    "- Dataset got scraped form - https://www.bikedekho.com/\n",
    "- Dataset consists of 9-columns :  \n",
    "-- company,  \n",
    "-- model,  \n",
    "-- year,  \n",
    "-- kms_driven,  \n",
    "-- cc_type,  \n",
    "-- fuel_type,  \n",
    "-- place,  \n",
    "-- ownership,  \n",
    "-- price\n",
    "\n",
    "- Data consists of approx 5.5k rows "
   ]
  },
  {
   "attachments": {},
   "cell_type": "markdown",
   "metadata": {},
   "source": [
    "### 2.1 Import Data and required packages\n",
    "#### Importing Pandas, Numpy, Matplotlib, Seaborn and Warnings Library."
   ]
  },
  {
   "cell_type": "code",
   "execution_count": 1,
   "metadata": {},
   "outputs": [],
   "source": [
    "import pandas as pd\n",
    "import numpy as np\n",
    "import seaborn as sns\n",
    "import matplotlib.pyplot as plt\n",
    "%matplotlib inline\n",
    "import warnings\n",
    "warnings.filterwarnings('ignore')"
   ]
  },
  {
   "attachments": {},
   "cell_type": "markdown",
   "metadata": {},
   "source": [
    "Import the csv data as DataFrame"
   ]
  },
  {
   "cell_type": "code",
   "execution_count": 2,
   "metadata": {},
   "outputs": [],
   "source": [
    "df = pd.read_csv('../data/BikeDekho.csv')"
   ]
  },
  {
   "cell_type": "code",
   "execution_count": 3,
   "metadata": {},
   "outputs": [
    {
     "data": {
      "text/html": [
       "<div>\n",
       "<style scoped>\n",
       "    .dataframe tbody tr th:only-of-type {\n",
       "        vertical-align: middle;\n",
       "    }\n",
       "\n",
       "    .dataframe tbody tr th {\n",
       "        vertical-align: top;\n",
       "    }\n",
       "\n",
       "    .dataframe thead th {\n",
       "        text-align: right;\n",
       "    }\n",
       "</style>\n",
       "<table border=\"1\" class=\"dataframe\">\n",
       "  <thead>\n",
       "    <tr style=\"text-align: right;\">\n",
       "      <th></th>\n",
       "      <th>Unnamed: 0</th>\n",
       "      <th>company</th>\n",
       "      <th>model</th>\n",
       "      <th>year</th>\n",
       "      <th>kms_driven</th>\n",
       "      <th>cc_type</th>\n",
       "      <th>fuel_type</th>\n",
       "      <th>place</th>\n",
       "      <th>ownership</th>\n",
       "      <th>price</th>\n",
       "    </tr>\n",
       "  </thead>\n",
       "  <tbody>\n",
       "    <tr>\n",
       "      <th>0</th>\n",
       "      <td>0</td>\n",
       "      <td>Hero Honda</td>\n",
       "      <td>Passion Plus</td>\n",
       "      <td>2013</td>\n",
       "      <td>30000</td>\n",
       "      <td>Upto 100 cc</td>\n",
       "      <td>petrol</td>\n",
       "      <td>ahmedabad</td>\n",
       "      <td>First</td>\n",
       "      <td>40000</td>\n",
       "    </tr>\n",
       "    <tr>\n",
       "      <th>1</th>\n",
       "      <td>1</td>\n",
       "      <td>Hero</td>\n",
       "      <td>Motocorp Passion Pro Electric Start</td>\n",
       "      <td>2015</td>\n",
       "      <td>47500</td>\n",
       "      <td>Upto 100 cc</td>\n",
       "      <td>petrol</td>\n",
       "      <td>ahmedabad</td>\n",
       "      <td>First</td>\n",
       "      <td>30000</td>\n",
       "    </tr>\n",
       "    <tr>\n",
       "      <th>2</th>\n",
       "      <td>2</td>\n",
       "      <td>Hero</td>\n",
       "      <td>Motocorp Passion Pro Electric Start With Disc ...</td>\n",
       "      <td>2015</td>\n",
       "      <td>40000</td>\n",
       "      <td>Upto 100 cc</td>\n",
       "      <td>petrol</td>\n",
       "      <td>ahmedabad</td>\n",
       "      <td>First</td>\n",
       "      <td>30000</td>\n",
       "    </tr>\n",
       "    <tr>\n",
       "      <th>3</th>\n",
       "      <td>3</td>\n",
       "      <td>Hero</td>\n",
       "      <td>HF Deluxe Alloy Self Start</td>\n",
       "      <td>2017</td>\n",
       "      <td>30000</td>\n",
       "      <td>Upto 100 cc</td>\n",
       "      <td>petrol</td>\n",
       "      <td>ahmedabad</td>\n",
       "      <td>First</td>\n",
       "      <td>20000</td>\n",
       "    </tr>\n",
       "    <tr>\n",
       "      <th>4</th>\n",
       "      <td>4</td>\n",
       "      <td>TVS</td>\n",
       "      <td>XL100 Heavy Duty i Touch Start</td>\n",
       "      <td>2018</td>\n",
       "      <td>43000</td>\n",
       "      <td>Upto 100 cc</td>\n",
       "      <td>petrol</td>\n",
       "      <td>ahmedabad</td>\n",
       "      <td>First</td>\n",
       "      <td>30000</td>\n",
       "    </tr>\n",
       "    <tr>\n",
       "      <th>...</th>\n",
       "      <td>...</td>\n",
       "      <td>...</td>\n",
       "      <td>...</td>\n",
       "      <td>...</td>\n",
       "      <td>...</td>\n",
       "      <td>...</td>\n",
       "      <td>...</td>\n",
       "      <td>...</td>\n",
       "      <td>...</td>\n",
       "      <td>...</td>\n",
       "    </tr>\n",
       "    <tr>\n",
       "      <th>5737</th>\n",
       "      <td>5737</td>\n",
       "      <td>Honda</td>\n",
       "      <td>CD 110 Dream Self Start</td>\n",
       "      <td>2018</td>\n",
       "      <td>14000</td>\n",
       "      <td>100 - 125 cc</td>\n",
       "      <td>petrol</td>\n",
       "      <td>yerraguntla</td>\n",
       "      <td>First</td>\n",
       "      <td>43500</td>\n",
       "    </tr>\n",
       "    <tr>\n",
       "      <th>5738</th>\n",
       "      <td>5738</td>\n",
       "      <td>Hero</td>\n",
       "      <td>HF Deluxe Spoke Self Start</td>\n",
       "      <td>2015</td>\n",
       "      <td>40000</td>\n",
       "      <td>Upto 100 cc</td>\n",
       "      <td>petrol</td>\n",
       "      <td>zirakpur</td>\n",
       "      <td>First</td>\n",
       "      <td>36000</td>\n",
       "    </tr>\n",
       "    <tr>\n",
       "      <th>5739</th>\n",
       "      <td>5739</td>\n",
       "      <td>Honda</td>\n",
       "      <td>Activa 125 Deluxe</td>\n",
       "      <td>2014</td>\n",
       "      <td>11000</td>\n",
       "      <td>100 - 125 cc</td>\n",
       "      <td>petrol</td>\n",
       "      <td>zirakpur</td>\n",
       "      <td>First</td>\n",
       "      <td>35000</td>\n",
       "    </tr>\n",
       "    <tr>\n",
       "      <th>5740</th>\n",
       "      <td>5740</td>\n",
       "      <td>Bajaj</td>\n",
       "      <td>Pulsar 135LS 2018 STD</td>\n",
       "      <td>2012</td>\n",
       "      <td>22000</td>\n",
       "      <td>125 - 150 cc</td>\n",
       "      <td>petrol</td>\n",
       "      <td>zirakpur</td>\n",
       "      <td>Second</td>\n",
       "      <td>25000</td>\n",
       "    </tr>\n",
       "    <tr>\n",
       "      <th>5741</th>\n",
       "      <td>5741</td>\n",
       "      <td>KTM</td>\n",
       "      <td>Duke 390</td>\n",
       "      <td>2017</td>\n",
       "      <td>18000</td>\n",
       "      <td>150 - 200 cc</td>\n",
       "      <td>petrol</td>\n",
       "      <td>zunheboto</td>\n",
       "      <td>First</td>\n",
       "      <td>90000</td>\n",
       "    </tr>\n",
       "  </tbody>\n",
       "</table>\n",
       "<p>5742 rows × 10 columns</p>\n",
       "</div>"
      ],
      "text/plain": [
       "      Unnamed: 0     company  \\\n",
       "0              0  Hero Honda   \n",
       "1              1        Hero   \n",
       "2              2        Hero   \n",
       "3              3        Hero   \n",
       "4              4         TVS   \n",
       "...          ...         ...   \n",
       "5737        5737       Honda   \n",
       "5738        5738        Hero   \n",
       "5739        5739       Honda   \n",
       "5740        5740       Bajaj   \n",
       "5741        5741         KTM   \n",
       "\n",
       "                                                  model  year  kms_driven  \\\n",
       "0                                          Passion Plus  2013       30000   \n",
       "1                   Motocorp Passion Pro Electric Start  2015       47500   \n",
       "2     Motocorp Passion Pro Electric Start With Disc ...  2015       40000   \n",
       "3                            HF Deluxe Alloy Self Start  2017       30000   \n",
       "4                        XL100 Heavy Duty i Touch Start  2018       43000   \n",
       "...                                                 ...   ...         ...   \n",
       "5737                            CD 110 Dream Self Start  2018       14000   \n",
       "5738                         HF Deluxe Spoke Self Start  2015       40000   \n",
       "5739                                  Activa 125 Deluxe  2014       11000   \n",
       "5740                              Pulsar 135LS 2018 STD  2012       22000   \n",
       "5741                                           Duke 390  2017       18000   \n",
       "\n",
       "           cc_type fuel_type        place ownership  price  \n",
       "0      Upto 100 cc    petrol    ahmedabad     First  40000  \n",
       "1      Upto 100 cc    petrol    ahmedabad     First  30000  \n",
       "2      Upto 100 cc    petrol    ahmedabad     First  30000  \n",
       "3      Upto 100 cc    petrol    ahmedabad     First  20000  \n",
       "4      Upto 100 cc    petrol    ahmedabad     First  30000  \n",
       "...            ...       ...          ...       ...    ...  \n",
       "5737  100 - 125 cc    petrol  yerraguntla     First  43500  \n",
       "5738   Upto 100 cc    petrol     zirakpur     First  36000  \n",
       "5739  100 - 125 cc    petrol     zirakpur     First  35000  \n",
       "5740  125 - 150 cc    petrol     zirakpur    Second  25000  \n",
       "5741  150 - 200 cc    petrol    zunheboto     First  90000  \n",
       "\n",
       "[5742 rows x 10 columns]"
      ]
     },
     "execution_count": 3,
     "metadata": {},
     "output_type": "execute_result"
    }
   ],
   "source": [
    "df"
   ]
  },
  {
   "cell_type": "code",
   "execution_count": 4,
   "metadata": {},
   "outputs": [
    {
     "data": {
      "text/html": [
       "<div>\n",
       "<style scoped>\n",
       "    .dataframe tbody tr th:only-of-type {\n",
       "        vertical-align: middle;\n",
       "    }\n",
       "\n",
       "    .dataframe tbody tr th {\n",
       "        vertical-align: top;\n",
       "    }\n",
       "\n",
       "    .dataframe thead th {\n",
       "        text-align: right;\n",
       "    }\n",
       "</style>\n",
       "<table border=\"1\" class=\"dataframe\">\n",
       "  <thead>\n",
       "    <tr style=\"text-align: right;\">\n",
       "      <th></th>\n",
       "      <th>Unnamed: 0</th>\n",
       "      <th>company</th>\n",
       "      <th>model</th>\n",
       "      <th>year</th>\n",
       "      <th>kms_driven</th>\n",
       "      <th>cc_type</th>\n",
       "      <th>fuel_type</th>\n",
       "      <th>place</th>\n",
       "      <th>ownership</th>\n",
       "      <th>price</th>\n",
       "    </tr>\n",
       "  </thead>\n",
       "  <tbody>\n",
       "    <tr>\n",
       "      <th>3729</th>\n",
       "      <td>3729</td>\n",
       "      <td>Honda</td>\n",
       "      <td>Shine Drum Brake</td>\n",
       "      <td>2009</td>\n",
       "      <td>78000</td>\n",
       "      <td>100 - 125 cc</td>\n",
       "      <td>petrol</td>\n",
       "      <td>haridwar</td>\n",
       "      <td>First</td>\n",
       "      <td>23000</td>\n",
       "    </tr>\n",
       "    <tr>\n",
       "      <th>3118</th>\n",
       "      <td>3118</td>\n",
       "      <td>TVS</td>\n",
       "      <td>Scooty Pep</td>\n",
       "      <td>2012</td>\n",
       "      <td>280000</td>\n",
       "      <td>Upto 100 cc</td>\n",
       "      <td>petrol</td>\n",
       "      <td>bikaner</td>\n",
       "      <td>First</td>\n",
       "      <td>15000</td>\n",
       "    </tr>\n",
       "    <tr>\n",
       "      <th>4286</th>\n",
       "      <td>4286</td>\n",
       "      <td>Hero</td>\n",
       "      <td>Motocorp Passion Pro Electric Start With Drum ...</td>\n",
       "      <td>2015</td>\n",
       "      <td>20000</td>\n",
       "      <td>Upto 100 cc</td>\n",
       "      <td>petrol</td>\n",
       "      <td>kurnool</td>\n",
       "      <td>First</td>\n",
       "      <td>40000</td>\n",
       "    </tr>\n",
       "    <tr>\n",
       "      <th>812</th>\n",
       "      <td>812</td>\n",
       "      <td>Honda</td>\n",
       "      <td>Activa 3G STD</td>\n",
       "      <td>2016</td>\n",
       "      <td>1200</td>\n",
       "      <td>100 - 125 cc</td>\n",
       "      <td>petrol</td>\n",
       "      <td>delhi</td>\n",
       "      <td>First</td>\n",
       "      <td>42000</td>\n",
       "    </tr>\n",
       "    <tr>\n",
       "      <th>2251</th>\n",
       "      <td>2251</td>\n",
       "      <td>Royal Enfield</td>\n",
       "      <td>Classic 350 S</td>\n",
       "      <td>2014</td>\n",
       "      <td>24000</td>\n",
       "      <td>250 - 500 cc</td>\n",
       "      <td>petrol</td>\n",
       "      <td>mumbai</td>\n",
       "      <td>First</td>\n",
       "      <td>80000</td>\n",
       "    </tr>\n",
       "  </tbody>\n",
       "</table>\n",
       "</div>"
      ],
      "text/plain": [
       "      Unnamed: 0        company  \\\n",
       "3729        3729          Honda   \n",
       "3118        3118            TVS   \n",
       "4286        4286           Hero   \n",
       "812          812          Honda   \n",
       "2251        2251  Royal Enfield   \n",
       "\n",
       "                                                  model  year  kms_driven  \\\n",
       "3729                                   Shine Drum Brake  2009       78000   \n",
       "3118                                         Scooty Pep  2012      280000   \n",
       "4286  Motocorp Passion Pro Electric Start With Drum ...  2015       20000   \n",
       "812                                       Activa 3G STD  2016        1200   \n",
       "2251                                      Classic 350 S  2014       24000   \n",
       "\n",
       "           cc_type fuel_type     place ownership  price  \n",
       "3729  100 - 125 cc    petrol  haridwar     First  23000  \n",
       "3118   Upto 100 cc    petrol   bikaner     First  15000  \n",
       "4286   Upto 100 cc    petrol   kurnool     First  40000  \n",
       "812   100 - 125 cc    petrol     delhi     First  42000  \n",
       "2251  250 - 500 cc    petrol    mumbai     First  80000  "
      ]
     },
     "execution_count": 4,
     "metadata": {},
     "output_type": "execute_result"
    }
   ],
   "source": [
    "df.sample(5)"
   ]
  },
  {
   "cell_type": "code",
   "execution_count": 5,
   "metadata": {},
   "outputs": [
    {
     "data": {
      "text/plain": [
       "(5742, 10)"
      ]
     },
     "execution_count": 5,
     "metadata": {},
     "output_type": "execute_result"
    }
   ],
   "source": [
    "df.shape"
   ]
  },
  {
   "attachments": {},
   "cell_type": "markdown",
   "metadata": {},
   "source": [
    "### 2.2 Dataset Information\n",
    "\n",
    "- Company\n",
    "- Model \n",
    "- Year  -------------> Year of purchasing\n",
    "- CC Type -------> Engine capacity\n",
    "- Fuel_Type ----> Petrol / Electric\n",
    "- Place -----------> Place of Buying/Selling\n",
    "- Ownership ---> First hand / Second hand / Thrid Hand / Fourth hand \n",
    "- Price -----------> Output variable"
   ]
  },
  {
   "attachments": {},
   "cell_type": "markdown",
   "metadata": {},
   "source": [
    "## 3) Data checks to perform"
   ]
  },
  {
   "attachments": {},
   "cell_type": "markdown",
   "metadata": {},
   "source": [
    "- Check missing values\n",
    "- Check Duplicates\n",
    "- Check Data Types\n",
    "- Check the number of unique values of each column\n",
    "- Check Statistics of data set\n",
    "- Check Various categoreis present in the different categorical columns"
   ]
  },
  {
   "attachments": {},
   "cell_type": "markdown",
   "metadata": {},
   "source": [
    "### 3.1 Check missing values"
   ]
  },
  {
   "cell_type": "code",
   "execution_count": 6,
   "metadata": {},
   "outputs": [
    {
     "data": {
      "text/plain": [
       "Unnamed: 0    0\n",
       "company       0\n",
       "model         0\n",
       "year          0\n",
       "kms_driven    0\n",
       "cc_type       0\n",
       "fuel_type     0\n",
       "place         0\n",
       "ownership     0\n",
       "price         0\n",
       "dtype: int64"
      ]
     },
     "execution_count": 6,
     "metadata": {},
     "output_type": "execute_result"
    }
   ],
   "source": [
    "df.isna().sum()"
   ]
  },
  {
   "attachments": {},
   "cell_type": "markdown",
   "metadata": {},
   "source": [
    "Null values present in -\n",
    "- price \n",
    "- ownership\n",
    "- model\n",
    "- fuel type"
   ]
  },
  {
   "cell_type": "code",
   "execution_count": 7,
   "metadata": {},
   "outputs": [],
   "source": [
    "df = df[df.price.notna()]\n",
    "df = df[df.ownership.notna()]\n",
    "df = df[df.model.notna()]"
   ]
  },
  {
   "cell_type": "code",
   "execution_count": 8,
   "metadata": {},
   "outputs": [
    {
     "data": {
      "text/plain": [
       "fuel_type\n",
       "petrol      5738\n",
       "electric       4\n",
       "Name: count, dtype: int64"
      ]
     },
     "execution_count": 8,
     "metadata": {},
     "output_type": "execute_result"
    }
   ],
   "source": [
    "df.fuel_type.value_counts()"
   ]
  },
  {
   "cell_type": "code",
   "execution_count": 9,
   "metadata": {},
   "outputs": [
    {
     "data": {
      "text/html": [
       "<div>\n",
       "<style scoped>\n",
       "    .dataframe tbody tr th:only-of-type {\n",
       "        vertical-align: middle;\n",
       "    }\n",
       "\n",
       "    .dataframe tbody tr th {\n",
       "        vertical-align: top;\n",
       "    }\n",
       "\n",
       "    .dataframe thead th {\n",
       "        text-align: right;\n",
       "    }\n",
       "</style>\n",
       "<table border=\"1\" class=\"dataframe\">\n",
       "  <thead>\n",
       "    <tr style=\"text-align: right;\">\n",
       "      <th></th>\n",
       "      <th>Unnamed: 0</th>\n",
       "      <th>company</th>\n",
       "      <th>model</th>\n",
       "      <th>year</th>\n",
       "      <th>kms_driven</th>\n",
       "      <th>cc_type</th>\n",
       "      <th>fuel_type</th>\n",
       "      <th>place</th>\n",
       "      <th>ownership</th>\n",
       "      <th>price</th>\n",
       "    </tr>\n",
       "  </thead>\n",
       "  <tbody>\n",
       "  </tbody>\n",
       "</table>\n",
       "</div>"
      ],
      "text/plain": [
       "Empty DataFrame\n",
       "Columns: [Unnamed: 0, company, model, year, kms_driven, cc_type, fuel_type, place, ownership, price]\n",
       "Index: []"
      ]
     },
     "execution_count": 9,
     "metadata": {},
     "output_type": "execute_result"
    }
   ],
   "source": [
    "df[df.fuel_type == 'Electric']"
   ]
  },
  {
   "cell_type": "code",
   "execution_count": 10,
   "metadata": {},
   "outputs": [
    {
     "data": {
      "text/html": [
       "<div>\n",
       "<style scoped>\n",
       "    .dataframe tbody tr th:only-of-type {\n",
       "        vertical-align: middle;\n",
       "    }\n",
       "\n",
       "    .dataframe tbody tr th {\n",
       "        vertical-align: top;\n",
       "    }\n",
       "\n",
       "    .dataframe thead th {\n",
       "        text-align: right;\n",
       "    }\n",
       "</style>\n",
       "<table border=\"1\" class=\"dataframe\">\n",
       "  <thead>\n",
       "    <tr style=\"text-align: right;\">\n",
       "      <th></th>\n",
       "      <th>Unnamed: 0</th>\n",
       "      <th>company</th>\n",
       "      <th>model</th>\n",
       "      <th>year</th>\n",
       "      <th>kms_driven</th>\n",
       "      <th>cc_type</th>\n",
       "      <th>fuel_type</th>\n",
       "      <th>place</th>\n",
       "      <th>ownership</th>\n",
       "      <th>price</th>\n",
       "    </tr>\n",
       "  </thead>\n",
       "  <tbody>\n",
       "  </tbody>\n",
       "</table>\n",
       "</div>"
      ],
      "text/plain": [
       "Empty DataFrame\n",
       "Columns: [Unnamed: 0, company, model, year, kms_driven, cc_type, fuel_type, place, ownership, price]\n",
       "Index: []"
      ]
     },
     "execution_count": 10,
     "metadata": {},
     "output_type": "execute_result"
    }
   ],
   "source": [
    "df[df.fuel_type.isna()]"
   ]
  },
  {
   "attachments": {},
   "cell_type": "markdown",
   "metadata": {},
   "source": [
    "Bajaj company bikes doesn't contain any Electric vehicle "
   ]
  },
  {
   "cell_type": "code",
   "execution_count": 11,
   "metadata": {},
   "outputs": [],
   "source": [
    "df.fuel_type.fillna('Petrol', inplace=True)"
   ]
  },
  {
   "cell_type": "code",
   "execution_count": 12,
   "metadata": {},
   "outputs": [
    {
     "data": {
      "text/plain": [
       "0"
      ]
     },
     "execution_count": 12,
     "metadata": {},
     "output_type": "execute_result"
    }
   ],
   "source": [
    "df.fuel_type.isna().sum()"
   ]
  },
  {
   "cell_type": "code",
   "execution_count": 13,
   "metadata": {},
   "outputs": [
    {
     "data": {
      "text/plain": [
       "company       0\n",
       "model         0\n",
       "year          0\n",
       "kms_driven    0\n",
       "cc_type       0\n",
       "fuel_type     0\n",
       "place         0\n",
       "ownership     0\n",
       "price         0\n",
       "dtype: int64"
      ]
     },
     "execution_count": 13,
     "metadata": {},
     "output_type": "execute_result"
    }
   ],
   "source": [
    "df.isna().sum()"
   ]
  },
  {
   "attachments": {},
   "cell_type": "markdown",
   "metadata": {},
   "source": [
    "### 3.2 Check duplicates"
   ]
  },
  {
   "cell_type": "code",
   "execution_count": 14,
   "metadata": {},
   "outputs": [
    {
     "data": {
      "text/plain": [
       "127"
      ]
     },
     "execution_count": 14,
     "metadata": {},
     "output_type": "execute_result"
    }
   ],
   "source": [
    "df.duplicated().sum()"
   ]
  },
  {
   "cell_type": "code",
   "execution_count": 15,
   "metadata": {},
   "outputs": [],
   "source": [
    "df.drop(index=df[df.duplicated()].index, inplace=True)"
   ]
  },
  {
   "cell_type": "code",
   "execution_count": 16,
   "metadata": {},
   "outputs": [
    {
     "data": {
      "text/plain": [
       "0"
      ]
     },
     "execution_count": 16,
     "metadata": {},
     "output_type": "execute_result"
    }
   ],
   "source": [
    "df.duplicated().sum()"
   ]
  },
  {
   "attachments": {},
   "cell_type": "markdown",
   "metadata": {},
   "source": [
    "### 3.3 Check for data types"
   ]
  },
  {
   "cell_type": "code",
   "execution_count": 17,
   "metadata": {},
   "outputs": [
    {
     "name": "stdout",
     "output_type": "stream",
     "text": [
      "<class 'pandas.core.frame.DataFrame'>\n",
      "Index: 5746 entries, 0 to 5880\n",
      "Data columns (total 9 columns):\n",
      " #   Column      Non-Null Count  Dtype \n",
      "---  ------      --------------  ----- \n",
      " 0   company     5746 non-null   object\n",
      " 1   model       5746 non-null   object\n",
      " 2   year        5746 non-null   int64 \n",
      " 3   kms_driven  5746 non-null   object\n",
      " 4   cc_type     5746 non-null   object\n",
      " 5   fuel_type   5746 non-null   object\n",
      " 6   place       5746 non-null   object\n",
      " 7   ownership   5746 non-null   object\n",
      " 8   price       5746 non-null   object\n",
      "dtypes: int64(1), object(8)\n",
      "memory usage: 448.9+ KB\n"
     ]
    }
   ],
   "source": [
    "df.info()"
   ]
  },
  {
   "cell_type": "code",
   "execution_count": 18,
   "metadata": {},
   "outputs": [
    {
     "data": {
      "text/plain": [
       "586        25,000\n",
       "2040       40,000\n",
       "2330    3.35 Lakh\n",
       "1408       20,000\n",
       "1841       75,000\n",
       "2466       35,000\n",
       "4011       20,000\n",
       "1484    1.45 Lakh\n",
       "5447       15,000\n",
       "4767       1 Lakh\n",
       "Name: price, dtype: object"
      ]
     },
     "execution_count": 18,
     "metadata": {},
     "output_type": "execute_result"
    }
   ],
   "source": [
    "df.price.sample(10)"
   ]
  },
  {
   "cell_type": "code",
   "execution_count": 19,
   "metadata": {},
   "outputs": [],
   "source": [
    "def chng_price_to_int(string):\n",
    "    if 'lakh' in string.lower():\n",
    "        string = string.lower().replace('lakh', '')\n",
    "        string = float(string)*100000\n",
    "        return int(string)\n",
    "    elif ',' in string:\n",
    "        string = string.replace(',', '')\n",
    "        return int(string)\n",
    "    return string\n"
   ]
  },
  {
   "cell_type": "code",
   "execution_count": 20,
   "metadata": {},
   "outputs": [
    {
     "data": {
      "text/plain": [
       "520000"
      ]
     },
     "execution_count": 20,
     "metadata": {},
     "output_type": "execute_result"
    }
   ],
   "source": [
    "chng_price_to_int('5.20 lakh')"
   ]
  },
  {
   "cell_type": "code",
   "execution_count": 21,
   "metadata": {},
   "outputs": [],
   "source": [
    "df['price'] = df.apply(lambda row : chng_price_to_int(row['price']), axis = 1)\n",
    "df['price'] = df['price'].astype('int')"
   ]
  },
  {
   "cell_type": "code",
   "execution_count": 22,
   "metadata": {},
   "outputs": [
    {
     "data": {
      "text/plain": [
       "2102    13,500 km\n",
       "1732    37,000 km\n",
       "905     68,000 km\n",
       "1656    20,000 km\n",
       "1493    30,000 km\n",
       "2255    35,000 km\n",
       "4263     7,956 km\n",
       "5582    20,000 km\n",
       "3741    18,500 km\n",
       "3326    12,000 km\n",
       "1372    35,000 km\n",
       "5187    15,000 km\n",
       "3396    20,000 km\n",
       "3219    45,000 km\n",
       "1490    25,000 km\n",
       "5502    19,000 km\n",
       "3600    12,000 km\n",
       "2995    52,000 km\n",
       "1346     6,868 km\n",
       "4161    70,000 km\n",
       "Name: kms_driven, dtype: object"
      ]
     },
     "execution_count": 22,
     "metadata": {},
     "output_type": "execute_result"
    }
   ],
   "source": [
    "df.kms_driven.sample(20)"
   ]
  },
  {
   "cell_type": "code",
   "execution_count": 23,
   "metadata": {},
   "outputs": [],
   "source": [
    "def chng_kms_to_int(string):\n",
    "    string = string.replace('km', '')\n",
    "    if 'Lakh' in string:\n",
    "        string = string.replace('Lakh', '')\n",
    "        string = float(string)*100000\n",
    "        return int(string)\n",
    "    elif ',' in string:\n",
    "        string = string.replace(',', '')\n",
    "        return int(string)\n",
    "    return string\n"
   ]
  },
  {
   "cell_type": "code",
   "execution_count": 24,
   "metadata": {},
   "outputs": [],
   "source": [
    "df['kms_driven'] = df.apply(lambda row : chng_kms_to_int(row['kms_driven']), axis = 1)\n",
    "df['kms_driven'] = df['kms_driven'].astype('int')"
   ]
  },
  {
   "cell_type": "code",
   "execution_count": 25,
   "metadata": {},
   "outputs": [
    {
     "name": "stdout",
     "output_type": "stream",
     "text": [
      "<class 'pandas.core.frame.DataFrame'>\n",
      "Index: 5746 entries, 0 to 5880\n",
      "Data columns (total 9 columns):\n",
      " #   Column      Non-Null Count  Dtype \n",
      "---  ------      --------------  ----- \n",
      " 0   company     5746 non-null   object\n",
      " 1   model       5746 non-null   object\n",
      " 2   year        5746 non-null   int64 \n",
      " 3   kms_driven  5746 non-null   int64 \n",
      " 4   cc_type     5746 non-null   object\n",
      " 5   fuel_type   5746 non-null   object\n",
      " 6   place       5746 non-null   object\n",
      " 7   ownership   5746 non-null   object\n",
      " 8   price       5746 non-null   int64 \n",
      "dtypes: int64(3), object(6)\n",
      "memory usage: 448.9+ KB\n"
     ]
    }
   ],
   "source": [
    "df.info()"
   ]
  },
  {
   "attachments": {},
   "cell_type": "markdown",
   "metadata": {},
   "source": [
    "### 3.4 Checking the number of unique values of each column"
   ]
  },
  {
   "cell_type": "code",
   "execution_count": 26,
   "metadata": {},
   "outputs": [
    {
     "data": {
      "text/plain": [
       "company         37\n",
       "model          674\n",
       "year            23\n",
       "kms_driven    1005\n",
       "cc_type        136\n",
       "fuel_type        4\n",
       "place          755\n",
       "ownership        4\n",
       "price          285\n",
       "dtype: int64"
      ]
     },
     "execution_count": 26,
     "metadata": {},
     "output_type": "execute_result"
    }
   ],
   "source": [
    "df.nunique()"
   ]
  },
  {
   "cell_type": "code",
   "execution_count": 27,
   "metadata": {},
   "outputs": [],
   "source": [
    "def chng_cc_values(string):\n",
    "    strt = string.find('(')\n",
    "    return string[:strt]"
   ]
  },
  {
   "cell_type": "code",
   "execution_count": 28,
   "metadata": {},
   "outputs": [
    {
     "data": {
      "text/plain": [
       "'150cc-200cc'"
      ]
     },
     "execution_count": 28,
     "metadata": {},
     "output_type": "execute_result"
    }
   ],
   "source": [
    "chng_cc_values('150cc-200cc(10)')"
   ]
  },
  {
   "cell_type": "code",
   "execution_count": 29,
   "metadata": {},
   "outputs": [],
   "source": [
    "df['cc_type'] =  df.apply(lambda row : chng_cc_values(row['cc_type']), axis = 1)"
   ]
  },
  {
   "cell_type": "code",
   "execution_count": 30,
   "metadata": {},
   "outputs": [
    {
     "data": {
      "text/plain": [
       "cc_type\n",
       "100 - 125 cc      1543\n",
       "150 - 200 cc      1202\n",
       "125 - 150 cc       902\n",
       "250 - 500 cc       775\n",
       "Upto 100 cc        695\n",
       "200 - 250 cc       394\n",
       "1000 and above     149\n",
       "500 - 1000 cc       82\n",
       "Electric\\n           2\n",
       "Scooters\\n           2\n",
       "Name: count, dtype: int64"
      ]
     },
     "execution_count": 30,
     "metadata": {},
     "output_type": "execute_result"
    }
   ],
   "source": [
    "df.cc_type.value_counts()"
   ]
  },
  {
   "cell_type": "code",
   "execution_count": 31,
   "metadata": {},
   "outputs": [
    {
     "data": {
      "text/html": [
       "<div>\n",
       "<style scoped>\n",
       "    .dataframe tbody tr th:only-of-type {\n",
       "        vertical-align: middle;\n",
       "    }\n",
       "\n",
       "    .dataframe tbody tr th {\n",
       "        vertical-align: top;\n",
       "    }\n",
       "\n",
       "    .dataframe thead th {\n",
       "        text-align: right;\n",
       "    }\n",
       "</style>\n",
       "<table border=\"1\" class=\"dataframe\">\n",
       "  <thead>\n",
       "    <tr style=\"text-align: right;\">\n",
       "      <th></th>\n",
       "      <th>company</th>\n",
       "      <th>model</th>\n",
       "      <th>year</th>\n",
       "      <th>kms_driven</th>\n",
       "      <th>cc_type</th>\n",
       "      <th>fuel_type</th>\n",
       "      <th>place</th>\n",
       "      <th>ownership</th>\n",
       "      <th>price</th>\n",
       "    </tr>\n",
       "  </thead>\n",
       "  <tbody>\n",
       "    <tr>\n",
       "      <th>4112</th>\n",
       "      <td>Hero</td>\n",
       "      <td>Electric Photon 48V STD</td>\n",
       "      <td>2017</td>\n",
       "      <td>10000</td>\n",
       "      <td>Scooters\\n</td>\n",
       "      <td>Electric</td>\n",
       "      <td>jhalawar</td>\n",
       "      <td>First</td>\n",
       "      <td>22000</td>\n",
       "    </tr>\n",
       "    <tr>\n",
       "      <th>5203</th>\n",
       "      <td>Komaki</td>\n",
       "      <td>XGT KM STD</td>\n",
       "      <td>2019</td>\n",
       "      <td>1000</td>\n",
       "      <td>Scooters\\n</td>\n",
       "      <td>Electric</td>\n",
       "      <td>saharsa</td>\n",
       "      <td>First</td>\n",
       "      <td>40000</td>\n",
       "    </tr>\n",
       "  </tbody>\n",
       "</table>\n",
       "</div>"
      ],
      "text/plain": [
       "     company                    model  year  kms_driven     cc_type fuel_type  \\\n",
       "4112    Hero  Electric Photon 48V STD  2017       10000  Scooters\\n  Electric   \n",
       "5203  Komaki               XGT KM STD  2019        1000  Scooters\\n  Electric   \n",
       "\n",
       "         place ownership  price  \n",
       "4112  jhalawar     First  22000  \n",
       "5203   saharsa     First  40000  "
      ]
     },
     "execution_count": 31,
     "metadata": {},
     "output_type": "execute_result"
    }
   ],
   "source": [
    "df[df['cc_type']=='Scooters\\n']"
   ]
  },
  {
   "cell_type": "code",
   "execution_count": 32,
   "metadata": {},
   "outputs": [
    {
     "data": {
      "text/html": [
       "<div>\n",
       "<style scoped>\n",
       "    .dataframe tbody tr th:only-of-type {\n",
       "        vertical-align: middle;\n",
       "    }\n",
       "\n",
       "    .dataframe tbody tr th {\n",
       "        vertical-align: top;\n",
       "    }\n",
       "\n",
       "    .dataframe thead th {\n",
       "        text-align: right;\n",
       "    }\n",
       "</style>\n",
       "<table border=\"1\" class=\"dataframe\">\n",
       "  <thead>\n",
       "    <tr style=\"text-align: right;\">\n",
       "      <th></th>\n",
       "      <th>company</th>\n",
       "      <th>model</th>\n",
       "      <th>year</th>\n",
       "      <th>kms_driven</th>\n",
       "      <th>cc_type</th>\n",
       "      <th>fuel_type</th>\n",
       "      <th>place</th>\n",
       "      <th>ownership</th>\n",
       "      <th>price</th>\n",
       "    </tr>\n",
       "  </thead>\n",
       "  <tbody>\n",
       "    <tr>\n",
       "      <th>4111</th>\n",
       "      <td>Hero</td>\n",
       "      <td>Electric Photon 48V STD</td>\n",
       "      <td>2017</td>\n",
       "      <td>10000</td>\n",
       "      <td>Electric\\n</td>\n",
       "      <td>Electric</td>\n",
       "      <td>jhalawar</td>\n",
       "      <td>First</td>\n",
       "      <td>22000</td>\n",
       "    </tr>\n",
       "    <tr>\n",
       "      <th>5202</th>\n",
       "      <td>Komaki</td>\n",
       "      <td>XGT KM STD</td>\n",
       "      <td>2019</td>\n",
       "      <td>1000</td>\n",
       "      <td>Electric\\n</td>\n",
       "      <td>Electric</td>\n",
       "      <td>saharsa</td>\n",
       "      <td>First</td>\n",
       "      <td>40000</td>\n",
       "    </tr>\n",
       "  </tbody>\n",
       "</table>\n",
       "</div>"
      ],
      "text/plain": [
       "     company                    model  year  kms_driven     cc_type fuel_type  \\\n",
       "4111    Hero  Electric Photon 48V STD  2017       10000  Electric\\n  Electric   \n",
       "5202  Komaki               XGT KM STD  2019        1000  Electric\\n  Electric   \n",
       "\n",
       "         place ownership  price  \n",
       "4111  jhalawar     First  22000  \n",
       "5202   saharsa     First  40000  "
      ]
     },
     "execution_count": 32,
     "metadata": {},
     "output_type": "execute_result"
    }
   ],
   "source": [
    "df[df['cc_type']=='Electric\\n']"
   ]
  },
  {
   "cell_type": "code",
   "execution_count": 33,
   "metadata": {},
   "outputs": [],
   "source": [
    "df.drop(index=[4111,4112,5202,5203], inplace=True)"
   ]
  },
  {
   "cell_type": "code",
   "execution_count": 34,
   "metadata": {},
   "outputs": [
    {
     "data": {
      "text/plain": [
       "array(['Upto 100 cc', '100 - 125 cc', '125 - 150 cc', '150 - 200 cc',\n",
       "       '200 - 250 cc', '250 - 500 cc', '500 - 1000 cc', '1000 and above'],\n",
       "      dtype=object)"
      ]
     },
     "execution_count": 34,
     "metadata": {},
     "output_type": "execute_result"
    }
   ],
   "source": [
    "df.cc_type.unique()"
   ]
  },
  {
   "attachments": {},
   "cell_type": "markdown",
   "metadata": {},
   "source": [
    "### 3.5 Check statistics of dataset"
   ]
  },
  {
   "cell_type": "code",
   "execution_count": 35,
   "metadata": {},
   "outputs": [
    {
     "data": {
      "text/html": [
       "<div>\n",
       "<style scoped>\n",
       "    .dataframe tbody tr th:only-of-type {\n",
       "        vertical-align: middle;\n",
       "    }\n",
       "\n",
       "    .dataframe tbody tr th {\n",
       "        vertical-align: top;\n",
       "    }\n",
       "\n",
       "    .dataframe thead th {\n",
       "        text-align: right;\n",
       "    }\n",
       "</style>\n",
       "<table border=\"1\" class=\"dataframe\">\n",
       "  <thead>\n",
       "    <tr style=\"text-align: right;\">\n",
       "      <th></th>\n",
       "      <th>year</th>\n",
       "      <th>kms_driven</th>\n",
       "      <th>price</th>\n",
       "    </tr>\n",
       "  </thead>\n",
       "  <tbody>\n",
       "    <tr>\n",
       "      <th>count</th>\n",
       "      <td>5742.000000</td>\n",
       "      <td>5742.000000</td>\n",
       "      <td>5.742000e+03</td>\n",
       "    </tr>\n",
       "    <tr>\n",
       "      <th>mean</th>\n",
       "      <td>2015.169801</td>\n",
       "      <td>29480.219262</td>\n",
       "      <td>6.780769e+04</td>\n",
       "    </tr>\n",
       "    <tr>\n",
       "      <th>std</th>\n",
       "      <td>3.078021</td>\n",
       "      <td>30566.403157</td>\n",
       "      <td>8.960961e+04</td>\n",
       "    </tr>\n",
       "    <tr>\n",
       "      <th>min</th>\n",
       "      <td>1995.000000</td>\n",
       "      <td>100.000000</td>\n",
       "      <td>1.000000e+00</td>\n",
       "    </tr>\n",
       "    <tr>\n",
       "      <th>25%</th>\n",
       "      <td>2013.250000</td>\n",
       "      <td>11844.000000</td>\n",
       "      <td>3.300000e+04</td>\n",
       "    </tr>\n",
       "    <tr>\n",
       "      <th>50%</th>\n",
       "      <td>2016.000000</td>\n",
       "      <td>23000.000000</td>\n",
       "      <td>5.000000e+04</td>\n",
       "    </tr>\n",
       "    <tr>\n",
       "      <th>75%</th>\n",
       "      <td>2017.000000</td>\n",
       "      <td>40000.000000</td>\n",
       "      <td>8.000000e+04</td>\n",
       "    </tr>\n",
       "    <tr>\n",
       "      <th>max</th>\n",
       "      <td>2022.000000</td>\n",
       "      <td>488999.000000</td>\n",
       "      <td>2.450000e+06</td>\n",
       "    </tr>\n",
       "  </tbody>\n",
       "</table>\n",
       "</div>"
      ],
      "text/plain": [
       "              year     kms_driven         price\n",
       "count  5742.000000    5742.000000  5.742000e+03\n",
       "mean   2015.169801   29480.219262  6.780769e+04\n",
       "std       3.078021   30566.403157  8.960961e+04\n",
       "min    1995.000000     100.000000  1.000000e+00\n",
       "25%    2013.250000   11844.000000  3.300000e+04\n",
       "50%    2016.000000   23000.000000  5.000000e+04\n",
       "75%    2017.000000   40000.000000  8.000000e+04\n",
       "max    2022.000000  488999.000000  2.450000e+06"
      ]
     },
     "execution_count": 35,
     "metadata": {},
     "output_type": "execute_result"
    }
   ],
   "source": [
    "df.describe()"
   ]
  },
  {
   "attachments": {},
   "cell_type": "markdown",
   "metadata": {},
   "source": [
    "### 3.7 Exploring Data"
   ]
  },
  {
   "cell_type": "code",
   "execution_count": 36,
   "metadata": {},
   "outputs": [
    {
     "name": "stdout",
     "output_type": "stream",
     "text": [
      "Categories in 'company' variable:     ['Hero Honda' 'Hero' 'TVS' 'Discover' 'Honda' 'Bajaj' 'Suzuki' 'others'\n",
      " 'Mahindra' 'Yamaha' 'KTM' 'kawasaki' 'BS6' 'Royal Enfield' 'ES' 'Tvs'\n",
      " 'Street' 'Vespa' 'Aprilia' 'Husqvarna' 'UM' 'Hyosung' 'Harley Davidson'\n",
      " 'Kawasaki' 'BMW' 'Harley-Davidson' 'Slingshot' 'Platina' 'Piaggio'\n",
      " 'Black' 'Jawa' 'Ducati' 'Benelli' 'Okinawa' 'Ampere' 'Triumph']\n"
     ]
    }
   ],
   "source": [
    "print(\"Categories in 'company' variable:    \", end=' ')\n",
    "print(df['company'].unique())"
   ]
  },
  {
   "cell_type": "code",
   "execution_count": 37,
   "metadata": {},
   "outputs": [
    {
     "data": {
      "text/html": [
       "<div>\n",
       "<style scoped>\n",
       "    .dataframe tbody tr th:only-of-type {\n",
       "        vertical-align: middle;\n",
       "    }\n",
       "\n",
       "    .dataframe tbody tr th {\n",
       "        vertical-align: top;\n",
       "    }\n",
       "\n",
       "    .dataframe thead th {\n",
       "        text-align: right;\n",
       "    }\n",
       "</style>\n",
       "<table border=\"1\" class=\"dataframe\">\n",
       "  <thead>\n",
       "    <tr style=\"text-align: right;\">\n",
       "      <th></th>\n",
       "      <th>company</th>\n",
       "      <th>model</th>\n",
       "      <th>year</th>\n",
       "      <th>kms_driven</th>\n",
       "      <th>cc_type</th>\n",
       "      <th>fuel_type</th>\n",
       "      <th>place</th>\n",
       "      <th>ownership</th>\n",
       "      <th>price</th>\n",
       "    </tr>\n",
       "  </thead>\n",
       "  <tbody>\n",
       "    <tr>\n",
       "      <th>9</th>\n",
       "      <td>Discover</td>\n",
       "      <td>100</td>\n",
       "      <td>2012</td>\n",
       "      <td>30000</td>\n",
       "      <td>Upto 100 cc</td>\n",
       "      <td>Petrol</td>\n",
       "      <td>ahmedabad</td>\n",
       "      <td>First</td>\n",
       "      <td>20000</td>\n",
       "    </tr>\n",
       "    <tr>\n",
       "      <th>10</th>\n",
       "      <td>Discover</td>\n",
       "      <td>100</td>\n",
       "      <td>2011</td>\n",
       "      <td>200000</td>\n",
       "      <td>Upto 100 cc</td>\n",
       "      <td>Petrol</td>\n",
       "      <td>ahmedabad</td>\n",
       "      <td>First</td>\n",
       "      <td>20000</td>\n",
       "    </tr>\n",
       "    <tr>\n",
       "      <th>11</th>\n",
       "      <td>Discover</td>\n",
       "      <td>100</td>\n",
       "      <td>2011</td>\n",
       "      <td>80000</td>\n",
       "      <td>Upto 100 cc</td>\n",
       "      <td>Petrol</td>\n",
       "      <td>ahmedabad</td>\n",
       "      <td>First</td>\n",
       "      <td>20000</td>\n",
       "    </tr>\n",
       "    <tr>\n",
       "      <th>85</th>\n",
       "      <td>Discover</td>\n",
       "      <td>100</td>\n",
       "      <td>2015</td>\n",
       "      <td>3317</td>\n",
       "      <td>Upto 100 cc</td>\n",
       "      <td>Petrol</td>\n",
       "      <td>bangalore</td>\n",
       "      <td>First</td>\n",
       "      <td>36000</td>\n",
       "    </tr>\n",
       "    <tr>\n",
       "      <th>94</th>\n",
       "      <td>Discover</td>\n",
       "      <td>100</td>\n",
       "      <td>2012</td>\n",
       "      <td>60000</td>\n",
       "      <td>Upto 100 cc</td>\n",
       "      <td>Petrol</td>\n",
       "      <td>bangalore</td>\n",
       "      <td>First</td>\n",
       "      <td>40000</td>\n",
       "    </tr>\n",
       "    <tr>\n",
       "      <th>99</th>\n",
       "      <td>Discover</td>\n",
       "      <td>100</td>\n",
       "      <td>2014</td>\n",
       "      <td>34000</td>\n",
       "      <td>Upto 100 cc</td>\n",
       "      <td>Petrol</td>\n",
       "      <td>bangalore</td>\n",
       "      <td>First</td>\n",
       "      <td>25000</td>\n",
       "    </tr>\n",
       "    <tr>\n",
       "      <th>493</th>\n",
       "      <td>Discover</td>\n",
       "      <td>100</td>\n",
       "      <td>2012</td>\n",
       "      <td>30000</td>\n",
       "      <td>Upto 100 cc</td>\n",
       "      <td>Petrol</td>\n",
       "      <td>chandigarh</td>\n",
       "      <td>First</td>\n",
       "      <td>16000</td>\n",
       "    </tr>\n",
       "    <tr>\n",
       "      <th>523</th>\n",
       "      <td>Discover</td>\n",
       "      <td>100</td>\n",
       "      <td>2014</td>\n",
       "      <td>62000</td>\n",
       "      <td>Upto 100 cc</td>\n",
       "      <td>Petrol</td>\n",
       "      <td>chennai</td>\n",
       "      <td>First</td>\n",
       "      <td>25000</td>\n",
       "    </tr>\n",
       "    <tr>\n",
       "      <th>750</th>\n",
       "      <td>Discover</td>\n",
       "      <td>100</td>\n",
       "      <td>2012</td>\n",
       "      <td>62000</td>\n",
       "      <td>Upto 100 cc</td>\n",
       "      <td>Petrol</td>\n",
       "      <td>delhi</td>\n",
       "      <td>First</td>\n",
       "      <td>20000</td>\n",
       "    </tr>\n",
       "    <tr>\n",
       "      <th>754</th>\n",
       "      <td>Discover</td>\n",
       "      <td>100</td>\n",
       "      <td>2010</td>\n",
       "      <td>74000</td>\n",
       "      <td>Upto 100 cc</td>\n",
       "      <td>Petrol</td>\n",
       "      <td>delhi</td>\n",
       "      <td>First</td>\n",
       "      <td>25000</td>\n",
       "    </tr>\n",
       "    <tr>\n",
       "      <th>1312</th>\n",
       "      <td>Discover</td>\n",
       "      <td>100</td>\n",
       "      <td>2011</td>\n",
       "      <td>33000</td>\n",
       "      <td>Upto 100 cc</td>\n",
       "      <td>Petrol</td>\n",
       "      <td>ghaziabad</td>\n",
       "      <td>First</td>\n",
       "      <td>25000</td>\n",
       "    </tr>\n",
       "    <tr>\n",
       "      <th>1314</th>\n",
       "      <td>Discover</td>\n",
       "      <td>100</td>\n",
       "      <td>2011</td>\n",
       "      <td>45000</td>\n",
       "      <td>Upto 100 cc</td>\n",
       "      <td>Petrol</td>\n",
       "      <td>ghaziabad</td>\n",
       "      <td>First</td>\n",
       "      <td>20000</td>\n",
       "    </tr>\n",
       "    <tr>\n",
       "      <th>1316</th>\n",
       "      <td>Discover</td>\n",
       "      <td>100</td>\n",
       "      <td>2014</td>\n",
       "      <td>29000</td>\n",
       "      <td>Upto 100 cc</td>\n",
       "      <td>Petrol</td>\n",
       "      <td>ghaziabad</td>\n",
       "      <td>First</td>\n",
       "      <td>24000</td>\n",
       "    </tr>\n",
       "    <tr>\n",
       "      <th>1886</th>\n",
       "      <td>Discover</td>\n",
       "      <td>100</td>\n",
       "      <td>2013</td>\n",
       "      <td>19200</td>\n",
       "      <td>Upto 100 cc</td>\n",
       "      <td>Petrol</td>\n",
       "      <td>kolkata</td>\n",
       "      <td>First</td>\n",
       "      <td>45000</td>\n",
       "    </tr>\n",
       "    <tr>\n",
       "      <th>2724</th>\n",
       "      <td>Discover</td>\n",
       "      <td>100</td>\n",
       "      <td>2013</td>\n",
       "      <td>60000</td>\n",
       "      <td>Upto 100 cc</td>\n",
       "      <td>Petrol</td>\n",
       "      <td>ajmer</td>\n",
       "      <td>First</td>\n",
       "      <td>20000</td>\n",
       "    </tr>\n",
       "    <tr>\n",
       "      <th>2766</th>\n",
       "      <td>Discover</td>\n",
       "      <td>100</td>\n",
       "      <td>2013</td>\n",
       "      <td>97000</td>\n",
       "      <td>Upto 100 cc</td>\n",
       "      <td>Petrol</td>\n",
       "      <td>alwar</td>\n",
       "      <td>Second</td>\n",
       "      <td>18000</td>\n",
       "    </tr>\n",
       "    <tr>\n",
       "      <th>2767</th>\n",
       "      <td>Discover</td>\n",
       "      <td>100</td>\n",
       "      <td>2014</td>\n",
       "      <td>83000</td>\n",
       "      <td>Upto 100 cc</td>\n",
       "      <td>Petrol</td>\n",
       "      <td>alwar</td>\n",
       "      <td>First</td>\n",
       "      <td>21000</td>\n",
       "    </tr>\n",
       "    <tr>\n",
       "      <th>2798</th>\n",
       "      <td>Discover</td>\n",
       "      <td>100</td>\n",
       "      <td>2013</td>\n",
       "      <td>45000</td>\n",
       "      <td>Upto 100 cc</td>\n",
       "      <td>Petrol</td>\n",
       "      <td>amritsar</td>\n",
       "      <td>First</td>\n",
       "      <td>20000</td>\n",
       "    </tr>\n",
       "    <tr>\n",
       "      <th>2852</th>\n",
       "      <td>Discover</td>\n",
       "      <td>100</td>\n",
       "      <td>2013</td>\n",
       "      <td>34000</td>\n",
       "      <td>Upto 100 cc</td>\n",
       "      <td>Petrol</td>\n",
       "      <td>assandh</td>\n",
       "      <td>Second</td>\n",
       "      <td>30000</td>\n",
       "    </tr>\n",
       "    <tr>\n",
       "      <th>2886</th>\n",
       "      <td>Discover</td>\n",
       "      <td>100</td>\n",
       "      <td>2014</td>\n",
       "      <td>55000</td>\n",
       "      <td>Upto 100 cc</td>\n",
       "      <td>Petrol</td>\n",
       "      <td>bagpat</td>\n",
       "      <td>First</td>\n",
       "      <td>20000</td>\n",
       "    </tr>\n",
       "    <tr>\n",
       "      <th>2893</th>\n",
       "      <td>Discover</td>\n",
       "      <td>100</td>\n",
       "      <td>2014</td>\n",
       "      <td>35000</td>\n",
       "      <td>Upto 100 cc</td>\n",
       "      <td>Petrol</td>\n",
       "      <td>bahadurgarh</td>\n",
       "      <td>First</td>\n",
       "      <td>30000</td>\n",
       "    </tr>\n",
       "    <tr>\n",
       "      <th>2894</th>\n",
       "      <td>Discover</td>\n",
       "      <td>100</td>\n",
       "      <td>2014</td>\n",
       "      <td>28000</td>\n",
       "      <td>Upto 100 cc</td>\n",
       "      <td>Petrol</td>\n",
       "      <td>bahadurgarh</td>\n",
       "      <td>First</td>\n",
       "      <td>30000</td>\n",
       "    </tr>\n",
       "    <tr>\n",
       "      <th>3080</th>\n",
       "      <td>Discover</td>\n",
       "      <td>100</td>\n",
       "      <td>2010</td>\n",
       "      <td>25000</td>\n",
       "      <td>Upto 100 cc</td>\n",
       "      <td>Petrol</td>\n",
       "      <td>bhiwani</td>\n",
       "      <td>First</td>\n",
       "      <td>20000</td>\n",
       "    </tr>\n",
       "    <tr>\n",
       "      <th>3086</th>\n",
       "      <td>Discover</td>\n",
       "      <td>100</td>\n",
       "      <td>2014</td>\n",
       "      <td>95000</td>\n",
       "      <td>Upto 100 cc</td>\n",
       "      <td>Petrol</td>\n",
       "      <td>bhopal</td>\n",
       "      <td>First</td>\n",
       "      <td>27000</td>\n",
       "    </tr>\n",
       "    <tr>\n",
       "      <th>3364</th>\n",
       "      <td>Discover</td>\n",
       "      <td>100</td>\n",
       "      <td>2009</td>\n",
       "      <td>70000</td>\n",
       "      <td>Upto 100 cc</td>\n",
       "      <td>Petrol</td>\n",
       "      <td>daltongang</td>\n",
       "      <td>First</td>\n",
       "      <td>18000</td>\n",
       "    </tr>\n",
       "    <tr>\n",
       "      <th>3480</th>\n",
       "      <td>Discover</td>\n",
       "      <td>100</td>\n",
       "      <td>2011</td>\n",
       "      <td>30000</td>\n",
       "      <td>Upto 100 cc</td>\n",
       "      <td>Petrol</td>\n",
       "      <td>dombilvli</td>\n",
       "      <td>Second</td>\n",
       "      <td>20000</td>\n",
       "    </tr>\n",
       "    <tr>\n",
       "      <th>3503</th>\n",
       "      <td>Discover</td>\n",
       "      <td>100</td>\n",
       "      <td>2011</td>\n",
       "      <td>30000</td>\n",
       "      <td>1000 and above</td>\n",
       "      <td>Petrol</td>\n",
       "      <td>dombilvli</td>\n",
       "      <td>Second</td>\n",
       "      <td>20000</td>\n",
       "    </tr>\n",
       "    <tr>\n",
       "      <th>3557</th>\n",
       "      <td>Discover</td>\n",
       "      <td>100</td>\n",
       "      <td>2011</td>\n",
       "      <td>98000</td>\n",
       "      <td>Upto 100 cc</td>\n",
       "      <td>Petrol</td>\n",
       "      <td>faizabad</td>\n",
       "      <td>First</td>\n",
       "      <td>15000</td>\n",
       "    </tr>\n",
       "    <tr>\n",
       "      <th>3729</th>\n",
       "      <td>Discover</td>\n",
       "      <td>100</td>\n",
       "      <td>2011</td>\n",
       "      <td>58000</td>\n",
       "      <td>Upto 100 cc</td>\n",
       "      <td>Petrol</td>\n",
       "      <td>guna</td>\n",
       "      <td>Thrid</td>\n",
       "      <td>32000</td>\n",
       "    </tr>\n",
       "    <tr>\n",
       "      <th>4161</th>\n",
       "      <td>Discover</td>\n",
       "      <td>100</td>\n",
       "      <td>2005</td>\n",
       "      <td>70000</td>\n",
       "      <td>Upto 100 cc</td>\n",
       "      <td>Petrol</td>\n",
       "      <td>kalamassery</td>\n",
       "      <td>Second</td>\n",
       "      <td>10000</td>\n",
       "    </tr>\n",
       "    <tr>\n",
       "      <th>4890</th>\n",
       "      <td>Discover</td>\n",
       "      <td>100</td>\n",
       "      <td>2011</td>\n",
       "      <td>75000</td>\n",
       "      <td>Upto 100 cc</td>\n",
       "      <td>Petrol</td>\n",
       "      <td>panvel</td>\n",
       "      <td>First</td>\n",
       "      <td>20000</td>\n",
       "    </tr>\n",
       "    <tr>\n",
       "      <th>5010</th>\n",
       "      <td>Discover</td>\n",
       "      <td>100</td>\n",
       "      <td>2012</td>\n",
       "      <td>36500</td>\n",
       "      <td>Upto 100 cc</td>\n",
       "      <td>Petrol</td>\n",
       "      <td>rajahmundry</td>\n",
       "      <td>Second</td>\n",
       "      <td>17000</td>\n",
       "    </tr>\n",
       "    <tr>\n",
       "      <th>5054</th>\n",
       "      <td>Discover</td>\n",
       "      <td>100</td>\n",
       "      <td>2012</td>\n",
       "      <td>75000</td>\n",
       "      <td>Upto 100 cc</td>\n",
       "      <td>Petrol</td>\n",
       "      <td>ranchi</td>\n",
       "      <td>First</td>\n",
       "      <td>40000</td>\n",
       "    </tr>\n",
       "    <tr>\n",
       "      <th>5100</th>\n",
       "      <td>Discover</td>\n",
       "      <td>100</td>\n",
       "      <td>2012</td>\n",
       "      <td>75000</td>\n",
       "      <td>1000 and above</td>\n",
       "      <td>Petrol</td>\n",
       "      <td>ranchi</td>\n",
       "      <td>First</td>\n",
       "      <td>40000</td>\n",
       "    </tr>\n",
       "    <tr>\n",
       "      <th>5167</th>\n",
       "      <td>Discover</td>\n",
       "      <td>100</td>\n",
       "      <td>2013</td>\n",
       "      <td>77000</td>\n",
       "      <td>Upto 100 cc</td>\n",
       "      <td>Petrol</td>\n",
       "      <td>rourkela</td>\n",
       "      <td>First</td>\n",
       "      <td>25000</td>\n",
       "    </tr>\n",
       "    <tr>\n",
       "      <th>5168</th>\n",
       "      <td>Discover</td>\n",
       "      <td>100</td>\n",
       "      <td>2012</td>\n",
       "      <td>65000</td>\n",
       "      <td>Upto 100 cc</td>\n",
       "      <td>Petrol</td>\n",
       "      <td>rourkela</td>\n",
       "      <td>First</td>\n",
       "      <td>20000</td>\n",
       "    </tr>\n",
       "    <tr>\n",
       "      <th>5383</th>\n",
       "      <td>Discover</td>\n",
       "      <td>100</td>\n",
       "      <td>2012</td>\n",
       "      <td>31000</td>\n",
       "      <td>Upto 100 cc</td>\n",
       "      <td>Petrol</td>\n",
       "      <td>sonepat</td>\n",
       "      <td>First</td>\n",
       "      <td>25000</td>\n",
       "    </tr>\n",
       "    <tr>\n",
       "      <th>5389</th>\n",
       "      <td>Discover</td>\n",
       "      <td>100</td>\n",
       "      <td>2012</td>\n",
       "      <td>31000</td>\n",
       "      <td>125 - 150 cc</td>\n",
       "      <td>Petrol</td>\n",
       "      <td>sonepat</td>\n",
       "      <td>First</td>\n",
       "      <td>25000</td>\n",
       "    </tr>\n",
       "    <tr>\n",
       "      <th>5472</th>\n",
       "      <td>Discover</td>\n",
       "      <td>100</td>\n",
       "      <td>2012</td>\n",
       "      <td>70000</td>\n",
       "      <td>Upto 100 cc</td>\n",
       "      <td>Petrol</td>\n",
       "      <td>surendranagar</td>\n",
       "      <td>First</td>\n",
       "      <td>18000</td>\n",
       "    </tr>\n",
       "    <tr>\n",
       "      <th>5617</th>\n",
       "      <td>Discover</td>\n",
       "      <td>100</td>\n",
       "      <td>2012</td>\n",
       "      <td>75000</td>\n",
       "      <td>Upto 100 cc</td>\n",
       "      <td>Petrol</td>\n",
       "      <td>tonk</td>\n",
       "      <td>First</td>\n",
       "      <td>36000</td>\n",
       "    </tr>\n",
       "    <tr>\n",
       "      <th>5692</th>\n",
       "      <td>Discover</td>\n",
       "      <td>100</td>\n",
       "      <td>2012</td>\n",
       "      <td>43799</td>\n",
       "      <td>Upto 100 cc</td>\n",
       "      <td>Petrol</td>\n",
       "      <td>vadodara</td>\n",
       "      <td>First</td>\n",
       "      <td>22000</td>\n",
       "    </tr>\n",
       "    <tr>\n",
       "      <th>5750</th>\n",
       "      <td>Discover</td>\n",
       "      <td>100</td>\n",
       "      <td>2013</td>\n",
       "      <td>27000</td>\n",
       "      <td>Upto 100 cc</td>\n",
       "      <td>Petrol</td>\n",
       "      <td>varanasi</td>\n",
       "      <td>First</td>\n",
       "      <td>20000</td>\n",
       "    </tr>\n",
       "  </tbody>\n",
       "</table>\n",
       "</div>"
      ],
      "text/plain": [
       "       company model  year  kms_driven         cc_type fuel_type  \\\n",
       "9     Discover   100  2012       30000     Upto 100 cc    Petrol   \n",
       "10    Discover   100  2011      200000     Upto 100 cc    Petrol   \n",
       "11    Discover   100  2011       80000     Upto 100 cc    Petrol   \n",
       "85    Discover   100  2015        3317     Upto 100 cc    Petrol   \n",
       "94    Discover   100  2012       60000     Upto 100 cc    Petrol   \n",
       "99    Discover   100  2014       34000     Upto 100 cc    Petrol   \n",
       "493   Discover   100  2012       30000     Upto 100 cc    Petrol   \n",
       "523   Discover   100  2014       62000     Upto 100 cc    Petrol   \n",
       "750   Discover   100  2012       62000     Upto 100 cc    Petrol   \n",
       "754   Discover   100  2010       74000     Upto 100 cc    Petrol   \n",
       "1312  Discover   100  2011       33000     Upto 100 cc    Petrol   \n",
       "1314  Discover   100  2011       45000     Upto 100 cc    Petrol   \n",
       "1316  Discover   100  2014       29000     Upto 100 cc    Petrol   \n",
       "1886  Discover   100  2013       19200     Upto 100 cc    Petrol   \n",
       "2724  Discover   100  2013       60000     Upto 100 cc    Petrol   \n",
       "2766  Discover   100  2013       97000     Upto 100 cc    Petrol   \n",
       "2767  Discover   100  2014       83000     Upto 100 cc    Petrol   \n",
       "2798  Discover   100  2013       45000     Upto 100 cc    Petrol   \n",
       "2852  Discover   100  2013       34000     Upto 100 cc    Petrol   \n",
       "2886  Discover   100  2014       55000     Upto 100 cc    Petrol   \n",
       "2893  Discover   100  2014       35000     Upto 100 cc    Petrol   \n",
       "2894  Discover   100  2014       28000     Upto 100 cc    Petrol   \n",
       "3080  Discover   100  2010       25000     Upto 100 cc    Petrol   \n",
       "3086  Discover   100  2014       95000     Upto 100 cc    Petrol   \n",
       "3364  Discover   100  2009       70000     Upto 100 cc    Petrol   \n",
       "3480  Discover   100  2011       30000     Upto 100 cc    Petrol   \n",
       "3503  Discover   100  2011       30000  1000 and above    Petrol   \n",
       "3557  Discover   100  2011       98000     Upto 100 cc    Petrol   \n",
       "3729  Discover   100  2011       58000     Upto 100 cc    Petrol   \n",
       "4161  Discover   100  2005       70000     Upto 100 cc    Petrol   \n",
       "4890  Discover   100  2011       75000     Upto 100 cc    Petrol   \n",
       "5010  Discover   100  2012       36500     Upto 100 cc    Petrol   \n",
       "5054  Discover   100  2012       75000     Upto 100 cc    Petrol   \n",
       "5100  Discover   100  2012       75000  1000 and above    Petrol   \n",
       "5167  Discover   100  2013       77000     Upto 100 cc    Petrol   \n",
       "5168  Discover   100  2012       65000     Upto 100 cc    Petrol   \n",
       "5383  Discover   100  2012       31000     Upto 100 cc    Petrol   \n",
       "5389  Discover   100  2012       31000    125 - 150 cc    Petrol   \n",
       "5472  Discover   100  2012       70000     Upto 100 cc    Petrol   \n",
       "5617  Discover   100  2012       75000     Upto 100 cc    Petrol   \n",
       "5692  Discover   100  2012       43799     Upto 100 cc    Petrol   \n",
       "5750  Discover   100  2013       27000     Upto 100 cc    Petrol   \n",
       "\n",
       "              place ownership  price  \n",
       "9         ahmedabad     First  20000  \n",
       "10        ahmedabad     First  20000  \n",
       "11        ahmedabad     First  20000  \n",
       "85        bangalore     First  36000  \n",
       "94        bangalore     First  40000  \n",
       "99        bangalore     First  25000  \n",
       "493      chandigarh     First  16000  \n",
       "523         chennai     First  25000  \n",
       "750           delhi     First  20000  \n",
       "754           delhi     First  25000  \n",
       "1312      ghaziabad     First  25000  \n",
       "1314      ghaziabad     First  20000  \n",
       "1316      ghaziabad     First  24000  \n",
       "1886        kolkata     First  45000  \n",
       "2724          ajmer     First  20000  \n",
       "2766          alwar    Second  18000  \n",
       "2767          alwar     First  21000  \n",
       "2798       amritsar     First  20000  \n",
       "2852        assandh    Second  30000  \n",
       "2886         bagpat     First  20000  \n",
       "2893    bahadurgarh     First  30000  \n",
       "2894    bahadurgarh     First  30000  \n",
       "3080        bhiwani     First  20000  \n",
       "3086         bhopal     First  27000  \n",
       "3364     daltongang     First  18000  \n",
       "3480      dombilvli    Second  20000  \n",
       "3503      dombilvli    Second  20000  \n",
       "3557       faizabad     First  15000  \n",
       "3729           guna     Thrid  32000  \n",
       "4161    kalamassery    Second  10000  \n",
       "4890         panvel     First  20000  \n",
       "5010    rajahmundry    Second  17000  \n",
       "5054         ranchi     First  40000  \n",
       "5100         ranchi     First  40000  \n",
       "5167       rourkela     First  25000  \n",
       "5168       rourkela     First  20000  \n",
       "5383        sonepat     First  25000  \n",
       "5389        sonepat     First  25000  \n",
       "5472  surendranagar     First  18000  \n",
       "5617           tonk     First  36000  \n",
       "5692       vadodara     First  22000  \n",
       "5750       varanasi     First  20000  "
      ]
     },
     "execution_count": 37,
     "metadata": {},
     "output_type": "execute_result"
    }
   ],
   "source": [
    "df.loc[df['company']=='Discover']"
   ]
  },
  {
   "cell_type": "code",
   "execution_count": 38,
   "metadata": {},
   "outputs": [
    {
     "data": {
      "text/html": [
       "<div>\n",
       "<style scoped>\n",
       "    .dataframe tbody tr th:only-of-type {\n",
       "        vertical-align: middle;\n",
       "    }\n",
       "\n",
       "    .dataframe tbody tr th {\n",
       "        vertical-align: top;\n",
       "    }\n",
       "\n",
       "    .dataframe thead th {\n",
       "        text-align: right;\n",
       "    }\n",
       "</style>\n",
       "<table border=\"1\" class=\"dataframe\">\n",
       "  <thead>\n",
       "    <tr style=\"text-align: right;\">\n",
       "      <th></th>\n",
       "      <th>company</th>\n",
       "      <th>model</th>\n",
       "      <th>year</th>\n",
       "      <th>kms_driven</th>\n",
       "      <th>cc_type</th>\n",
       "      <th>fuel_type</th>\n",
       "      <th>place</th>\n",
       "      <th>ownership</th>\n",
       "      <th>price</th>\n",
       "    </tr>\n",
       "  </thead>\n",
       "  <tbody>\n",
       "  </tbody>\n",
       "</table>\n",
       "</div>"
      ],
      "text/plain": [
       "Empty DataFrame\n",
       "Columns: [company, model, year, kms_driven, cc_type, fuel_type, place, ownership, price]\n",
       "Index: []"
      ]
     },
     "execution_count": 38,
     "metadata": {},
     "output_type": "execute_result"
    }
   ],
   "source": [
    "df.loc[df['company']=='Discover', 'model'] = (df[df['company']=='Discover']['company']+' '+df[df['company']=='Discover']['model'])\n",
    "# df[df['company']=='Discover'].sample(5)\n",
    "df.loc[df['company']=='Discover', 'company'] = 'Bajaj'\n",
    "df[df['company']=='Discover']"
   ]
  },
  {
   "cell_type": "code",
   "execution_count": 39,
   "metadata": {},
   "outputs": [
    {
     "data": {
      "text/html": [
       "<div>\n",
       "<style scoped>\n",
       "    .dataframe tbody tr th:only-of-type {\n",
       "        vertical-align: middle;\n",
       "    }\n",
       "\n",
       "    .dataframe tbody tr th {\n",
       "        vertical-align: top;\n",
       "    }\n",
       "\n",
       "    .dataframe thead th {\n",
       "        text-align: right;\n",
       "    }\n",
       "</style>\n",
       "<table border=\"1\" class=\"dataframe\">\n",
       "  <thead>\n",
       "    <tr style=\"text-align: right;\">\n",
       "      <th></th>\n",
       "      <th>company</th>\n",
       "      <th>model</th>\n",
       "      <th>year</th>\n",
       "      <th>kms_driven</th>\n",
       "      <th>cc_type</th>\n",
       "      <th>fuel_type</th>\n",
       "      <th>place</th>\n",
       "      <th>ownership</th>\n",
       "      <th>price</th>\n",
       "    </tr>\n",
       "  </thead>\n",
       "  <tbody>\n",
       "  </tbody>\n",
       "</table>\n",
       "</div>"
      ],
      "text/plain": [
       "Empty DataFrame\n",
       "Columns: [company, model, year, kms_driven, cc_type, fuel_type, place, ownership, price]\n",
       "Index: []"
      ]
     },
     "execution_count": 39,
     "metadata": {},
     "output_type": "execute_result"
    }
   ],
   "source": [
    "# df[df['company']=='Platina'].sample(5)\n",
    "df.loc[df['company']=='Platina', 'model'] = (df[df['company']=='Platina']['company']+' '+df[df['company']=='Platina']['model'])\n",
    "df.loc[df['company']=='Platina', 'company'] = 'Bajaj'\n",
    "df.loc[df['company']=='Platina']"
   ]
  },
  {
   "cell_type": "code",
   "execution_count": 40,
   "metadata": {},
   "outputs": [
    {
     "data": {
      "text/html": [
       "<div>\n",
       "<style scoped>\n",
       "    .dataframe tbody tr th:only-of-type {\n",
       "        vertical-align: middle;\n",
       "    }\n",
       "\n",
       "    .dataframe tbody tr th {\n",
       "        vertical-align: top;\n",
       "    }\n",
       "\n",
       "    .dataframe thead th {\n",
       "        text-align: right;\n",
       "    }\n",
       "</style>\n",
       "<table border=\"1\" class=\"dataframe\">\n",
       "  <thead>\n",
       "    <tr style=\"text-align: right;\">\n",
       "      <th></th>\n",
       "      <th>company</th>\n",
       "      <th>model</th>\n",
       "      <th>year</th>\n",
       "      <th>kms_driven</th>\n",
       "      <th>cc_type</th>\n",
       "      <th>fuel_type</th>\n",
       "      <th>place</th>\n",
       "      <th>ownership</th>\n",
       "      <th>price</th>\n",
       "    </tr>\n",
       "  </thead>\n",
       "  <tbody>\n",
       "    <tr>\n",
       "      <th>73</th>\n",
       "      <td>BS6</td>\n",
       "      <td>Royal Enfield Classic 350 Signals Edition</td>\n",
       "      <td>2019</td>\n",
       "      <td>20047</td>\n",
       "      <td>250 - 500 cc</td>\n",
       "      <td>Petrol</td>\n",
       "      <td>ahmedabad</td>\n",
       "      <td>First</td>\n",
       "      <td>165000</td>\n",
       "    </tr>\n",
       "    <tr>\n",
       "      <th>1211</th>\n",
       "      <td>BS6</td>\n",
       "      <td>Royal Enfield Classic 350 Dual-channel ABS</td>\n",
       "      <td>2018</td>\n",
       "      <td>5800</td>\n",
       "      <td>250 - 500 cc</td>\n",
       "      <td>Petrol</td>\n",
       "      <td>delhi</td>\n",
       "      <td>First</td>\n",
       "      <td>140000</td>\n",
       "    </tr>\n",
       "    <tr>\n",
       "      <th>1212</th>\n",
       "      <td>BS6</td>\n",
       "      <td>Royal Enfield Classic 350 Black</td>\n",
       "      <td>2017</td>\n",
       "      <td>21000</td>\n",
       "      <td>250 - 500 cc</td>\n",
       "      <td>Petrol</td>\n",
       "      <td>delhi</td>\n",
       "      <td>First</td>\n",
       "      <td>110000</td>\n",
       "    </tr>\n",
       "    <tr>\n",
       "      <th>4266</th>\n",
       "      <td>BS6</td>\n",
       "      <td>TVS Apache RTR 160 4V Disc</td>\n",
       "      <td>2019</td>\n",
       "      <td>5000</td>\n",
       "      <td>150 - 200 cc</td>\n",
       "      <td>Petrol</td>\n",
       "      <td>karur</td>\n",
       "      <td>First</td>\n",
       "      <td>60000</td>\n",
       "    </tr>\n",
       "    <tr>\n",
       "      <th>4363</th>\n",
       "      <td>BS6</td>\n",
       "      <td>Royal Enfield Classic 350 Black</td>\n",
       "      <td>2017</td>\n",
       "      <td>31500</td>\n",
       "      <td>250 - 500 cc</td>\n",
       "      <td>Petrol</td>\n",
       "      <td>kottayam</td>\n",
       "      <td>First</td>\n",
       "      <td>125000</td>\n",
       "    </tr>\n",
       "    <tr>\n",
       "      <th>4542</th>\n",
       "      <td>BS6</td>\n",
       "      <td>Royal Enfield Classic 350 Dual-channel ABS</td>\n",
       "      <td>2019</td>\n",
       "      <td>3936</td>\n",
       "      <td>250 - 500 cc</td>\n",
       "      <td>Petrol</td>\n",
       "      <td>meerut</td>\n",
       "      <td>First</td>\n",
       "      <td>170000</td>\n",
       "    </tr>\n",
       "    <tr>\n",
       "      <th>4712</th>\n",
       "      <td>BS6</td>\n",
       "      <td>Royal Enfield Classic 350 Single-channel ABS</td>\n",
       "      <td>2018</td>\n",
       "      <td>13504</td>\n",
       "      <td>250 - 500 cc</td>\n",
       "      <td>Petrol</td>\n",
       "      <td>nalgonda</td>\n",
       "      <td>First</td>\n",
       "      <td>120000</td>\n",
       "    </tr>\n",
       "    <tr>\n",
       "      <th>4937</th>\n",
       "      <td>BS6</td>\n",
       "      <td>Royal Enfield Classic 350 Black</td>\n",
       "      <td>2018</td>\n",
       "      <td>6500</td>\n",
       "      <td>250 - 500 cc</td>\n",
       "      <td>Petrol</td>\n",
       "      <td>pithoragarh</td>\n",
       "      <td>First</td>\n",
       "      <td>120000</td>\n",
       "    </tr>\n",
       "    <tr>\n",
       "      <th>4966</th>\n",
       "      <td>BS6</td>\n",
       "      <td>Royal Enfield Classic 350 Gunmetal Grey</td>\n",
       "      <td>2020</td>\n",
       "      <td>3300</td>\n",
       "      <td>250 - 500 cc</td>\n",
       "      <td>Petrol</td>\n",
       "      <td>purnia</td>\n",
       "      <td>First</td>\n",
       "      <td>160000</td>\n",
       "    </tr>\n",
       "    <tr>\n",
       "      <th>5218</th>\n",
       "      <td>BS6</td>\n",
       "      <td>Royal Enfield Classic 350 Black</td>\n",
       "      <td>2017</td>\n",
       "      <td>20000</td>\n",
       "      <td>250 - 500 cc</td>\n",
       "      <td>Petrol</td>\n",
       "      <td>samastipur</td>\n",
       "      <td>Second</td>\n",
       "      <td>125000</td>\n",
       "    </tr>\n",
       "  </tbody>\n",
       "</table>\n",
       "</div>"
      ],
      "text/plain": [
       "     company                                         model  year  kms_driven  \\\n",
       "73       BS6     Royal Enfield Classic 350 Signals Edition  2019       20047   \n",
       "1211     BS6    Royal Enfield Classic 350 Dual-channel ABS  2018        5800   \n",
       "1212     BS6               Royal Enfield Classic 350 Black  2017       21000   \n",
       "4266     BS6                    TVS Apache RTR 160 4V Disc  2019        5000   \n",
       "4363     BS6               Royal Enfield Classic 350 Black  2017       31500   \n",
       "4542     BS6    Royal Enfield Classic 350 Dual-channel ABS  2019        3936   \n",
       "4712     BS6  Royal Enfield Classic 350 Single-channel ABS  2018       13504   \n",
       "4937     BS6               Royal Enfield Classic 350 Black  2018        6500   \n",
       "4966     BS6       Royal Enfield Classic 350 Gunmetal Grey  2020        3300   \n",
       "5218     BS6               Royal Enfield Classic 350 Black  2017       20000   \n",
       "\n",
       "           cc_type fuel_type        place ownership   price  \n",
       "73    250 - 500 cc    Petrol    ahmedabad     First  165000  \n",
       "1211  250 - 500 cc    Petrol        delhi     First  140000  \n",
       "1212  250 - 500 cc    Petrol        delhi     First  110000  \n",
       "4266  150 - 200 cc    Petrol        karur     First   60000  \n",
       "4363  250 - 500 cc    Petrol     kottayam     First  125000  \n",
       "4542  250 - 500 cc    Petrol       meerut     First  170000  \n",
       "4712  250 - 500 cc    Petrol     nalgonda     First  120000  \n",
       "4937  250 - 500 cc    Petrol  pithoragarh     First  120000  \n",
       "4966  250 - 500 cc    Petrol       purnia     First  160000  \n",
       "5218  250 - 500 cc    Petrol   samastipur    Second  125000  "
      ]
     },
     "execution_count": 40,
     "metadata": {},
     "output_type": "execute_result"
    }
   ],
   "source": [
    "df.loc[df['company']=='BS6']"
   ]
  },
  {
   "cell_type": "code",
   "execution_count": 41,
   "metadata": {},
   "outputs": [],
   "source": [
    "df.loc[4266, 'company'] = 'TVS'"
   ]
  },
  {
   "cell_type": "code",
   "execution_count": 42,
   "metadata": {},
   "outputs": [
    {
     "data": {
      "text/html": [
       "<div>\n",
       "<style scoped>\n",
       "    .dataframe tbody tr th:only-of-type {\n",
       "        vertical-align: middle;\n",
       "    }\n",
       "\n",
       "    .dataframe tbody tr th {\n",
       "        vertical-align: top;\n",
       "    }\n",
       "\n",
       "    .dataframe thead th {\n",
       "        text-align: right;\n",
       "    }\n",
       "</style>\n",
       "<table border=\"1\" class=\"dataframe\">\n",
       "  <thead>\n",
       "    <tr style=\"text-align: right;\">\n",
       "      <th></th>\n",
       "      <th>company</th>\n",
       "      <th>model</th>\n",
       "      <th>year</th>\n",
       "      <th>kms_driven</th>\n",
       "      <th>cc_type</th>\n",
       "      <th>fuel_type</th>\n",
       "      <th>place</th>\n",
       "      <th>ownership</th>\n",
       "      <th>price</th>\n",
       "    </tr>\n",
       "  </thead>\n",
       "  <tbody>\n",
       "    <tr>\n",
       "      <th>73</th>\n",
       "      <td>BS6</td>\n",
       "      <td>Royal Enfield Classic 350 Signals Edition</td>\n",
       "      <td>2019</td>\n",
       "      <td>20047</td>\n",
       "      <td>250 - 500 cc</td>\n",
       "      <td>Petrol</td>\n",
       "      <td>ahmedabad</td>\n",
       "      <td>First</td>\n",
       "      <td>165000</td>\n",
       "    </tr>\n",
       "    <tr>\n",
       "      <th>1211</th>\n",
       "      <td>BS6</td>\n",
       "      <td>Royal Enfield Classic 350 Dual-channel ABS</td>\n",
       "      <td>2018</td>\n",
       "      <td>5800</td>\n",
       "      <td>250 - 500 cc</td>\n",
       "      <td>Petrol</td>\n",
       "      <td>delhi</td>\n",
       "      <td>First</td>\n",
       "      <td>140000</td>\n",
       "    </tr>\n",
       "    <tr>\n",
       "      <th>1212</th>\n",
       "      <td>BS6</td>\n",
       "      <td>Royal Enfield Classic 350 Black</td>\n",
       "      <td>2017</td>\n",
       "      <td>21000</td>\n",
       "      <td>250 - 500 cc</td>\n",
       "      <td>Petrol</td>\n",
       "      <td>delhi</td>\n",
       "      <td>First</td>\n",
       "      <td>110000</td>\n",
       "    </tr>\n",
       "    <tr>\n",
       "      <th>4363</th>\n",
       "      <td>BS6</td>\n",
       "      <td>Royal Enfield Classic 350 Black</td>\n",
       "      <td>2017</td>\n",
       "      <td>31500</td>\n",
       "      <td>250 - 500 cc</td>\n",
       "      <td>Petrol</td>\n",
       "      <td>kottayam</td>\n",
       "      <td>First</td>\n",
       "      <td>125000</td>\n",
       "    </tr>\n",
       "    <tr>\n",
       "      <th>4542</th>\n",
       "      <td>BS6</td>\n",
       "      <td>Royal Enfield Classic 350 Dual-channel ABS</td>\n",
       "      <td>2019</td>\n",
       "      <td>3936</td>\n",
       "      <td>250 - 500 cc</td>\n",
       "      <td>Petrol</td>\n",
       "      <td>meerut</td>\n",
       "      <td>First</td>\n",
       "      <td>170000</td>\n",
       "    </tr>\n",
       "    <tr>\n",
       "      <th>4712</th>\n",
       "      <td>BS6</td>\n",
       "      <td>Royal Enfield Classic 350 Single-channel ABS</td>\n",
       "      <td>2018</td>\n",
       "      <td>13504</td>\n",
       "      <td>250 - 500 cc</td>\n",
       "      <td>Petrol</td>\n",
       "      <td>nalgonda</td>\n",
       "      <td>First</td>\n",
       "      <td>120000</td>\n",
       "    </tr>\n",
       "    <tr>\n",
       "      <th>4937</th>\n",
       "      <td>BS6</td>\n",
       "      <td>Royal Enfield Classic 350 Black</td>\n",
       "      <td>2018</td>\n",
       "      <td>6500</td>\n",
       "      <td>250 - 500 cc</td>\n",
       "      <td>Petrol</td>\n",
       "      <td>pithoragarh</td>\n",
       "      <td>First</td>\n",
       "      <td>120000</td>\n",
       "    </tr>\n",
       "    <tr>\n",
       "      <th>4966</th>\n",
       "      <td>BS6</td>\n",
       "      <td>Royal Enfield Classic 350 Gunmetal Grey</td>\n",
       "      <td>2020</td>\n",
       "      <td>3300</td>\n",
       "      <td>250 - 500 cc</td>\n",
       "      <td>Petrol</td>\n",
       "      <td>purnia</td>\n",
       "      <td>First</td>\n",
       "      <td>160000</td>\n",
       "    </tr>\n",
       "    <tr>\n",
       "      <th>5218</th>\n",
       "      <td>BS6</td>\n",
       "      <td>Royal Enfield Classic 350 Black</td>\n",
       "      <td>2017</td>\n",
       "      <td>20000</td>\n",
       "      <td>250 - 500 cc</td>\n",
       "      <td>Petrol</td>\n",
       "      <td>samastipur</td>\n",
       "      <td>Second</td>\n",
       "      <td>125000</td>\n",
       "    </tr>\n",
       "  </tbody>\n",
       "</table>\n",
       "</div>"
      ],
      "text/plain": [
       "     company                                         model  year  kms_driven  \\\n",
       "73       BS6     Royal Enfield Classic 350 Signals Edition  2019       20047   \n",
       "1211     BS6    Royal Enfield Classic 350 Dual-channel ABS  2018        5800   \n",
       "1212     BS6               Royal Enfield Classic 350 Black  2017       21000   \n",
       "4363     BS6               Royal Enfield Classic 350 Black  2017       31500   \n",
       "4542     BS6    Royal Enfield Classic 350 Dual-channel ABS  2019        3936   \n",
       "4712     BS6  Royal Enfield Classic 350 Single-channel ABS  2018       13504   \n",
       "4937     BS6               Royal Enfield Classic 350 Black  2018        6500   \n",
       "4966     BS6       Royal Enfield Classic 350 Gunmetal Grey  2020        3300   \n",
       "5218     BS6               Royal Enfield Classic 350 Black  2017       20000   \n",
       "\n",
       "           cc_type fuel_type        place ownership   price  \n",
       "73    250 - 500 cc    Petrol    ahmedabad     First  165000  \n",
       "1211  250 - 500 cc    Petrol        delhi     First  140000  \n",
       "1212  250 - 500 cc    Petrol        delhi     First  110000  \n",
       "4363  250 - 500 cc    Petrol     kottayam     First  125000  \n",
       "4542  250 - 500 cc    Petrol       meerut     First  170000  \n",
       "4712  250 - 500 cc    Petrol     nalgonda     First  120000  \n",
       "4937  250 - 500 cc    Petrol  pithoragarh     First  120000  \n",
       "4966  250 - 500 cc    Petrol       purnia     First  160000  \n",
       "5218  250 - 500 cc    Petrol   samastipur    Second  125000  "
      ]
     },
     "execution_count": 42,
     "metadata": {},
     "output_type": "execute_result"
    }
   ],
   "source": [
    "df.loc[df['company']=='BS6']"
   ]
  },
  {
   "attachments": {},
   "cell_type": "markdown",
   "metadata": {},
   "source": [
    "The data that contain `BS6` as company is of `royal enfield` company only"
   ]
  },
  {
   "cell_type": "code",
   "execution_count": 43,
   "metadata": {},
   "outputs": [],
   "source": [
    "df.loc[df['company']=='BS6', 'model'] = df.loc[df['company']=='BS6','model'].str.replace('Royal Enfield ', '')\n",
    "df.loc[df['company']=='BS6', 'company'] = 'Royal Enfield'\n",
    "# df.loc[df['company']=='BS6']"
   ]
  },
  {
   "cell_type": "code",
   "execution_count": 44,
   "metadata": {},
   "outputs": [
    {
     "name": "stdout",
     "output_type": "stream",
     "text": [
      "Categories in 'company' variable:     ['Hero Honda' 'Hero' 'TVS' 'Bajaj' 'Honda' 'Suzuki' 'others' 'Mahindra'\n",
      " 'Yamaha' 'KTM' 'kawasaki' 'Royal Enfield' 'ES' 'Tvs' 'Street' 'Vespa'\n",
      " 'Aprilia' 'Husqvarna' 'UM' 'Hyosung' 'Harley Davidson' 'Kawasaki' 'BMW'\n",
      " 'Harley-Davidson' 'Slingshot' 'Piaggio' 'Black' 'Jawa' 'Ducati' 'Benelli'\n",
      " 'Okinawa' 'Ampere' 'Triumph']\n"
     ]
    }
   ],
   "source": [
    "print(\"Categories in 'company' variable:    \", end=' ')\n",
    "print(df['company'].unique())"
   ]
  },
  {
   "cell_type": "code",
   "execution_count": 45,
   "metadata": {},
   "outputs": [],
   "source": [
    "df.loc[df['company'] == 'Tvs', 'company'] = 'TVS'\n",
    "df.loc[df['company']=='Harley-Davidson', 'company'] = 'Harley Davidson'"
   ]
  },
  {
   "cell_type": "code",
   "execution_count": 46,
   "metadata": {},
   "outputs": [
    {
     "data": {
      "text/html": [
       "<div>\n",
       "<style scoped>\n",
       "    .dataframe tbody tr th:only-of-type {\n",
       "        vertical-align: middle;\n",
       "    }\n",
       "\n",
       "    .dataframe tbody tr th {\n",
       "        vertical-align: top;\n",
       "    }\n",
       "\n",
       "    .dataframe thead th {\n",
       "        text-align: right;\n",
       "    }\n",
       "</style>\n",
       "<table border=\"1\" class=\"dataframe\">\n",
       "  <thead>\n",
       "    <tr style=\"text-align: right;\">\n",
       "      <th></th>\n",
       "      <th>company</th>\n",
       "      <th>model</th>\n",
       "      <th>year</th>\n",
       "      <th>kms_driven</th>\n",
       "      <th>cc_type</th>\n",
       "      <th>fuel_type</th>\n",
       "      <th>place</th>\n",
       "      <th>ownership</th>\n",
       "      <th>price</th>\n",
       "    </tr>\n",
       "  </thead>\n",
       "  <tbody>\n",
       "    <tr>\n",
       "      <th>791</th>\n",
       "      <td>Piaggio</td>\n",
       "      <td>Vespa S 125</td>\n",
       "      <td>2015</td>\n",
       "      <td>37000</td>\n",
       "      <td>100 - 125 cc</td>\n",
       "      <td>Petrol</td>\n",
       "      <td>delhi</td>\n",
       "      <td>First</td>\n",
       "      <td>50000</td>\n",
       "    </tr>\n",
       "    <tr>\n",
       "      <th>1342</th>\n",
       "      <td>Piaggio</td>\n",
       "      <td>Vespa LX 125 STD</td>\n",
       "      <td>2018</td>\n",
       "      <td>1800</td>\n",
       "      <td>100 - 125 cc</td>\n",
       "      <td>Petrol</td>\n",
       "      <td>ghaziabad</td>\n",
       "      <td>First</td>\n",
       "      <td>70000</td>\n",
       "    </tr>\n",
       "    <tr>\n",
       "      <th>1573</th>\n",
       "      <td>Piaggio</td>\n",
       "      <td>Vespa LX 125 STD</td>\n",
       "      <td>2015</td>\n",
       "      <td>31000</td>\n",
       "      <td>100 - 125 cc</td>\n",
       "      <td>Petrol</td>\n",
       "      <td>hyderabad</td>\n",
       "      <td>First</td>\n",
       "      <td>50000</td>\n",
       "    </tr>\n",
       "    <tr>\n",
       "      <th>1576</th>\n",
       "      <td>Piaggio</td>\n",
       "      <td>Vespa LX 125 STD</td>\n",
       "      <td>2018</td>\n",
       "      <td>9300</td>\n",
       "      <td>100 - 125 cc</td>\n",
       "      <td>Petrol</td>\n",
       "      <td>hyderabad</td>\n",
       "      <td>First</td>\n",
       "      <td>75000</td>\n",
       "    </tr>\n",
       "    <tr>\n",
       "      <th>1577</th>\n",
       "      <td>Piaggio</td>\n",
       "      <td>Vespa LX 125 STD</td>\n",
       "      <td>2018</td>\n",
       "      <td>9600</td>\n",
       "      <td>100 - 125 cc</td>\n",
       "      <td>Petrol</td>\n",
       "      <td>hyderabad</td>\n",
       "      <td>First</td>\n",
       "      <td>75000</td>\n",
       "    </tr>\n",
       "    <tr>\n",
       "      <th>2403</th>\n",
       "      <td>Piaggio</td>\n",
       "      <td>Vespa LX 125 STD</td>\n",
       "      <td>2018</td>\n",
       "      <td>20000</td>\n",
       "      <td>100 - 125 cc</td>\n",
       "      <td>Petrol</td>\n",
       "      <td>patna</td>\n",
       "      <td>First</td>\n",
       "      <td>60000</td>\n",
       "    </tr>\n",
       "    <tr>\n",
       "      <th>2456</th>\n",
       "      <td>Piaggio</td>\n",
       "      <td>Vespa Lx 125</td>\n",
       "      <td>2013</td>\n",
       "      <td>45000</td>\n",
       "      <td>100 - 125 cc</td>\n",
       "      <td>Petrol</td>\n",
       "      <td>pune</td>\n",
       "      <td>First</td>\n",
       "      <td>32000</td>\n",
       "    </tr>\n",
       "    <tr>\n",
       "      <th>4744</th>\n",
       "      <td>Piaggio</td>\n",
       "      <td>Vespa S 125</td>\n",
       "      <td>2014</td>\n",
       "      <td>18000</td>\n",
       "      <td>100 - 125 cc</td>\n",
       "      <td>Petrol</td>\n",
       "      <td>navi-mumbai</td>\n",
       "      <td>Second</td>\n",
       "      <td>35000</td>\n",
       "    </tr>\n",
       "  </tbody>\n",
       "</table>\n",
       "</div>"
      ],
      "text/plain": [
       "      company             model  year  kms_driven       cc_type fuel_type  \\\n",
       "791   Piaggio       Vespa S 125  2015       37000  100 - 125 cc    Petrol   \n",
       "1342  Piaggio  Vespa LX 125 STD  2018        1800  100 - 125 cc    Petrol   \n",
       "1573  Piaggio  Vespa LX 125 STD  2015       31000  100 - 125 cc    Petrol   \n",
       "1576  Piaggio  Vespa LX 125 STD  2018        9300  100 - 125 cc    Petrol   \n",
       "1577  Piaggio  Vespa LX 125 STD  2018        9600  100 - 125 cc    Petrol   \n",
       "2403  Piaggio  Vespa LX 125 STD  2018       20000  100 - 125 cc    Petrol   \n",
       "2456  Piaggio      Vespa Lx 125  2013       45000  100 - 125 cc    Petrol   \n",
       "4744  Piaggio       Vespa S 125  2014       18000  100 - 125 cc    Petrol   \n",
       "\n",
       "            place ownership  price  \n",
       "791         delhi     First  50000  \n",
       "1342    ghaziabad     First  70000  \n",
       "1573    hyderabad     First  50000  \n",
       "1576    hyderabad     First  75000  \n",
       "1577    hyderabad     First  75000  \n",
       "2403        patna     First  60000  \n",
       "2456         pune     First  32000  \n",
       "4744  navi-mumbai    Second  35000  "
      ]
     },
     "execution_count": 46,
     "metadata": {},
     "output_type": "execute_result"
    }
   ],
   "source": [
    "df.loc[df['company']=='Piaggio']"
   ]
  },
  {
   "attachments": {},
   "cell_type": "markdown",
   "metadata": {},
   "source": [
    "And another thing here is `piaggio` and `Vespa` are same companies"
   ]
  },
  {
   "cell_type": "code",
   "execution_count": 47,
   "metadata": {},
   "outputs": [],
   "source": [
    "df.loc[df['company']=='Piaggio', 'company'] = 'Vespa'"
   ]
  },
  {
   "cell_type": "code",
   "execution_count": 48,
   "metadata": {},
   "outputs": [
    {
     "name": "stdout",
     "output_type": "stream",
     "text": [
      "Categories in 'company' variable:     ['Hero Honda' 'Hero' 'TVS' 'Bajaj' 'Honda' 'Suzuki' 'others' 'Mahindra'\n",
      " 'Yamaha' 'KTM' 'kawasaki' 'Royal Enfield' 'ES' 'Street' 'Vespa' 'Aprilia'\n",
      " 'Husqvarna' 'UM' 'Hyosung' 'Harley Davidson' 'Kawasaki' 'BMW' 'Slingshot'\n",
      " 'Black' 'Jawa' 'Ducati' 'Benelli' 'Okinawa' 'Ampere' 'Triumph']\n"
     ]
    }
   ],
   "source": [
    "print(\"Categories in 'company' variable:    \", end=' ')\n",
    "print(df['company'].unique())"
   ]
  },
  {
   "cell_type": "code",
   "execution_count": 49,
   "metadata": {},
   "outputs": [
    {
     "data": {
      "text/plain": [
       "model\n",
       "220                                  53\n",
       "125                                  18\n",
       "125 M Disc                           15\n",
       "100M                                 13\n",
       "2019 Suzuki Gixxer STD                4\n",
       "100 M Disc                            3\n",
       "150                                   2\n",
       "2019 Bajaj Dominar 400 STD            2\n",
       "2015 KTM 390 Duke STD                 2\n",
       "100 Spoke Wheel                       1\n",
       "2019 Honda Activa 125 BS6 Drum        1\n",
       "2019 Honda Activa 125 Standard        1\n",
       " TVS Star City Plus Mono Tone BS6     1\n",
       "Name: count, dtype: int64"
      ]
     },
     "execution_count": 49,
     "metadata": {},
     "output_type": "execute_result"
    }
   ],
   "source": [
    "df.loc[df['company']=='others']['model'].value_counts()"
   ]
  },
  {
   "attachments": {},
   "cell_type": "markdown",
   "metadata": {},
   "source": [
    "- 2019 Suzuki Gixxer STD\n",
    "- 2019 Bajaj Dominar 400 STD\n",
    "- 2015 KTM 390 Duke STD\n",
    "- 2019 Honda Activa 125 BS6 Drum\n",
    "- 2019 Honda Activa 125 Standard\n",
    "-  TVS Star City Plus Mono Tone BS6"
   ]
  },
  {
   "cell_type": "code",
   "execution_count": 50,
   "metadata": {},
   "outputs": [
    {
     "data": {
      "text/html": [
       "<div>\n",
       "<style scoped>\n",
       "    .dataframe tbody tr th:only-of-type {\n",
       "        vertical-align: middle;\n",
       "    }\n",
       "\n",
       "    .dataframe tbody tr th {\n",
       "        vertical-align: top;\n",
       "    }\n",
       "\n",
       "    .dataframe thead th {\n",
       "        text-align: right;\n",
       "    }\n",
       "</style>\n",
       "<table border=\"1\" class=\"dataframe\">\n",
       "  <thead>\n",
       "    <tr style=\"text-align: right;\">\n",
       "      <th></th>\n",
       "      <th>company</th>\n",
       "      <th>model</th>\n",
       "      <th>year</th>\n",
       "      <th>kms_driven</th>\n",
       "      <th>cc_type</th>\n",
       "      <th>fuel_type</th>\n",
       "      <th>place</th>\n",
       "      <th>ownership</th>\n",
       "      <th>price</th>\n",
       "    </tr>\n",
       "  </thead>\n",
       "  <tbody>\n",
       "    <tr>\n",
       "      <th>286</th>\n",
       "      <td>others</td>\n",
       "      <td>2019 Suzuki Gixxer STD</td>\n",
       "      <td>2019</td>\n",
       "      <td>5900</td>\n",
       "      <td>150 - 200 cc</td>\n",
       "      <td>Petrol</td>\n",
       "      <td>bangalore</td>\n",
       "      <td>First</td>\n",
       "      <td>85000</td>\n",
       "    </tr>\n",
       "    <tr>\n",
       "      <th>1045</th>\n",
       "      <td>others</td>\n",
       "      <td>2019 Suzuki Gixxer STD</td>\n",
       "      <td>2019</td>\n",
       "      <td>7000</td>\n",
       "      <td>150 - 200 cc</td>\n",
       "      <td>Petrol</td>\n",
       "      <td>delhi</td>\n",
       "      <td>First</td>\n",
       "      <td>100000</td>\n",
       "    </tr>\n",
       "    <tr>\n",
       "      <th>4360</th>\n",
       "      <td>others</td>\n",
       "      <td>2019 Suzuki Gixxer STD</td>\n",
       "      <td>2019</td>\n",
       "      <td>10000</td>\n",
       "      <td>150 - 200 cc</td>\n",
       "      <td>Petrol</td>\n",
       "      <td>kottayam</td>\n",
       "      <td>First</td>\n",
       "      <td>100000</td>\n",
       "    </tr>\n",
       "    <tr>\n",
       "      <th>4914</th>\n",
       "      <td>others</td>\n",
       "      <td>2019 Suzuki Gixxer STD</td>\n",
       "      <td>2019</td>\n",
       "      <td>10000</td>\n",
       "      <td>150 - 200 cc</td>\n",
       "      <td>Petrol</td>\n",
       "      <td>perambalur</td>\n",
       "      <td>First</td>\n",
       "      <td>80000</td>\n",
       "    </tr>\n",
       "  </tbody>\n",
       "</table>\n",
       "</div>"
      ],
      "text/plain": [
       "     company                   model  year  kms_driven       cc_type  \\\n",
       "286   others  2019 Suzuki Gixxer STD  2019        5900  150 - 200 cc   \n",
       "1045  others  2019 Suzuki Gixxer STD  2019        7000  150 - 200 cc   \n",
       "4360  others  2019 Suzuki Gixxer STD  2019       10000  150 - 200 cc   \n",
       "4914  others  2019 Suzuki Gixxer STD  2019       10000  150 - 200 cc   \n",
       "\n",
       "     fuel_type       place ownership   price  \n",
       "286     Petrol   bangalore     First   85000  \n",
       "1045    Petrol       delhi     First  100000  \n",
       "4360    Petrol    kottayam     First  100000  \n",
       "4914    Petrol  perambalur     First   80000  "
      ]
     },
     "execution_count": 50,
     "metadata": {},
     "output_type": "execute_result"
    }
   ],
   "source": [
    "df.loc[df['model']=='2019 Suzuki Gixxer STD']"
   ]
  },
  {
   "cell_type": "code",
   "execution_count": 51,
   "metadata": {},
   "outputs": [],
   "source": [
    "df.loc[[286,1045,4360,4914], 'model'] = 'Gixxer STD'\n",
    "df.loc[[286,1045,4360,4914], 'company'] = 'Suzuki'"
   ]
  },
  {
   "cell_type": "code",
   "execution_count": 52,
   "metadata": {},
   "outputs": [
    {
     "data": {
      "text/html": [
       "<div>\n",
       "<style scoped>\n",
       "    .dataframe tbody tr th:only-of-type {\n",
       "        vertical-align: middle;\n",
       "    }\n",
       "\n",
       "    .dataframe tbody tr th {\n",
       "        vertical-align: top;\n",
       "    }\n",
       "\n",
       "    .dataframe thead th {\n",
       "        text-align: right;\n",
       "    }\n",
       "</style>\n",
       "<table border=\"1\" class=\"dataframe\">\n",
       "  <thead>\n",
       "    <tr style=\"text-align: right;\">\n",
       "      <th></th>\n",
       "      <th>company</th>\n",
       "      <th>model</th>\n",
       "      <th>year</th>\n",
       "      <th>kms_driven</th>\n",
       "      <th>cc_type</th>\n",
       "      <th>fuel_type</th>\n",
       "      <th>place</th>\n",
       "      <th>ownership</th>\n",
       "      <th>price</th>\n",
       "    </tr>\n",
       "  </thead>\n",
       "  <tbody>\n",
       "    <tr>\n",
       "      <th>2309</th>\n",
       "      <td>others</td>\n",
       "      <td>2019 Bajaj Dominar 400 STD</td>\n",
       "      <td>2019</td>\n",
       "      <td>30000</td>\n",
       "      <td>250 - 500 cc</td>\n",
       "      <td>Petrol</td>\n",
       "      <td>mumbai</td>\n",
       "      <td>First</td>\n",
       "      <td>180000</td>\n",
       "    </tr>\n",
       "    <tr>\n",
       "      <th>3736</th>\n",
       "      <td>others</td>\n",
       "      <td>2019 Bajaj Dominar 400 STD</td>\n",
       "      <td>2019</td>\n",
       "      <td>10000</td>\n",
       "      <td>250 - 500 cc</td>\n",
       "      <td>Petrol</td>\n",
       "      <td>guntur</td>\n",
       "      <td>First</td>\n",
       "      <td>80000</td>\n",
       "    </tr>\n",
       "  </tbody>\n",
       "</table>\n",
       "</div>"
      ],
      "text/plain": [
       "     company                       model  year  kms_driven       cc_type  \\\n",
       "2309  others  2019 Bajaj Dominar 400 STD  2019       30000  250 - 500 cc   \n",
       "3736  others  2019 Bajaj Dominar 400 STD  2019       10000  250 - 500 cc   \n",
       "\n",
       "     fuel_type   place ownership   price  \n",
       "2309    Petrol  mumbai     First  180000  \n",
       "3736    Petrol  guntur     First   80000  "
      ]
     },
     "execution_count": 52,
     "metadata": {},
     "output_type": "execute_result"
    }
   ],
   "source": [
    "df.loc[df['model']=='2019 Bajaj Dominar 400 STD']"
   ]
  },
  {
   "cell_type": "code",
   "execution_count": 53,
   "metadata": {},
   "outputs": [
    {
     "name": "stdout",
     "output_type": "stream",
     "text": [
      "Dominar 400 ABS\n",
      "Dominar 400 STD\n",
      "Dominar 400\n",
      "Dominar 400 BS6\n"
     ]
    }
   ],
   "source": [
    "for i in df.loc[df['company']=='Bajaj', 'model'].unique():\n",
    "    if 'Dominar' in i:\n",
    "        print(i)"
   ]
  },
  {
   "cell_type": "code",
   "execution_count": 54,
   "metadata": {},
   "outputs": [],
   "source": [
    "df.loc[[2309,3736], 'model'] = 'Dominar 400 STD'\n",
    "df.loc[[2309,3736], 'company'] = 'Bajaj'"
   ]
  },
  {
   "cell_type": "code",
   "execution_count": 55,
   "metadata": {},
   "outputs": [
    {
     "data": {
      "text/html": [
       "<div>\n",
       "<style scoped>\n",
       "    .dataframe tbody tr th:only-of-type {\n",
       "        vertical-align: middle;\n",
       "    }\n",
       "\n",
       "    .dataframe tbody tr th {\n",
       "        vertical-align: top;\n",
       "    }\n",
       "\n",
       "    .dataframe thead th {\n",
       "        text-align: right;\n",
       "    }\n",
       "</style>\n",
       "<table border=\"1\" class=\"dataframe\">\n",
       "  <thead>\n",
       "    <tr style=\"text-align: right;\">\n",
       "      <th></th>\n",
       "      <th>company</th>\n",
       "      <th>model</th>\n",
       "      <th>year</th>\n",
       "      <th>kms_driven</th>\n",
       "      <th>cc_type</th>\n",
       "      <th>fuel_type</th>\n",
       "      <th>place</th>\n",
       "      <th>ownership</th>\n",
       "      <th>price</th>\n",
       "    </tr>\n",
       "  </thead>\n",
       "  <tbody>\n",
       "    <tr>\n",
       "      <th>5637</th>\n",
       "      <td>others</td>\n",
       "      <td>2015 KTM 390 Duke STD</td>\n",
       "      <td>2015</td>\n",
       "      <td>14000</td>\n",
       "      <td>250 - 500 cc</td>\n",
       "      <td>Petrol</td>\n",
       "      <td>udaipur</td>\n",
       "      <td>First</td>\n",
       "      <td>120000</td>\n",
       "    </tr>\n",
       "    <tr>\n",
       "      <th>5652</th>\n",
       "      <td>others</td>\n",
       "      <td>2015 KTM 390 Duke STD</td>\n",
       "      <td>2015</td>\n",
       "      <td>14000</td>\n",
       "      <td>1000 and above</td>\n",
       "      <td>Petrol</td>\n",
       "      <td>udaipur</td>\n",
       "      <td>First</td>\n",
       "      <td>120000</td>\n",
       "    </tr>\n",
       "  </tbody>\n",
       "</table>\n",
       "</div>"
      ],
      "text/plain": [
       "     company                  model  year  kms_driven         cc_type  \\\n",
       "5637  others  2015 KTM 390 Duke STD  2015       14000    250 - 500 cc   \n",
       "5652  others  2015 KTM 390 Duke STD  2015       14000  1000 and above   \n",
       "\n",
       "     fuel_type    place ownership   price  \n",
       "5637    Petrol  udaipur     First  120000  \n",
       "5652    Petrol  udaipur     First  120000  "
      ]
     },
     "execution_count": 55,
     "metadata": {},
     "output_type": "execute_result"
    }
   ],
   "source": [
    "df.loc[df['model']=='2015 KTM 390 Duke STD']"
   ]
  },
  {
   "cell_type": "code",
   "execution_count": 56,
   "metadata": {},
   "outputs": [],
   "source": [
    "df.loc[[5637,5652], 'model'] = 'RC 390 STD'\n",
    "df.loc[[5637,5652], 'company'] = 'KTM'"
   ]
  },
  {
   "cell_type": "code",
   "execution_count": 57,
   "metadata": {},
   "outputs": [
    {
     "data": {
      "text/html": [
       "<div>\n",
       "<style scoped>\n",
       "    .dataframe tbody tr th:only-of-type {\n",
       "        vertical-align: middle;\n",
       "    }\n",
       "\n",
       "    .dataframe tbody tr th {\n",
       "        vertical-align: top;\n",
       "    }\n",
       "\n",
       "    .dataframe thead th {\n",
       "        text-align: right;\n",
       "    }\n",
       "</style>\n",
       "<table border=\"1\" class=\"dataframe\">\n",
       "  <thead>\n",
       "    <tr style=\"text-align: right;\">\n",
       "      <th></th>\n",
       "      <th>company</th>\n",
       "      <th>model</th>\n",
       "      <th>year</th>\n",
       "      <th>kms_driven</th>\n",
       "      <th>cc_type</th>\n",
       "      <th>fuel_type</th>\n",
       "      <th>place</th>\n",
       "      <th>ownership</th>\n",
       "      <th>price</th>\n",
       "    </tr>\n",
       "  </thead>\n",
       "  <tbody>\n",
       "    <tr>\n",
       "      <th>3186</th>\n",
       "      <td>others</td>\n",
       "      <td>2019 Honda Activa 125 BS6 Drum</td>\n",
       "      <td>2016</td>\n",
       "      <td>30000</td>\n",
       "      <td>100 - 125 cc</td>\n",
       "      <td>Petrol</td>\n",
       "      <td>bijapur</td>\n",
       "      <td>First</td>\n",
       "      <td>38000</td>\n",
       "    </tr>\n",
       "  </tbody>\n",
       "</table>\n",
       "</div>"
      ],
      "text/plain": [
       "     company                           model  year  kms_driven       cc_type  \\\n",
       "3186  others  2019 Honda Activa 125 BS6 Drum  2016       30000  100 - 125 cc   \n",
       "\n",
       "     fuel_type    place ownership  price  \n",
       "3186    Petrol  bijapur     First  38000  "
      ]
     },
     "execution_count": 57,
     "metadata": {},
     "output_type": "execute_result"
    }
   ],
   "source": [
    "df.loc[df['model']=='2019 Honda Activa 125 BS6 Drum']"
   ]
  },
  {
   "cell_type": "code",
   "execution_count": 58,
   "metadata": {},
   "outputs": [],
   "source": [
    "df.loc[[3186], 'model'] = 'Activa 125 BS6 Drum'\n",
    "df.loc[[3186], 'company'] = 'Honda'"
   ]
  },
  {
   "cell_type": "code",
   "execution_count": 59,
   "metadata": {},
   "outputs": [
    {
     "data": {
      "text/html": [
       "<div>\n",
       "<style scoped>\n",
       "    .dataframe tbody tr th:only-of-type {\n",
       "        vertical-align: middle;\n",
       "    }\n",
       "\n",
       "    .dataframe tbody tr th {\n",
       "        vertical-align: top;\n",
       "    }\n",
       "\n",
       "    .dataframe thead th {\n",
       "        text-align: right;\n",
       "    }\n",
       "</style>\n",
       "<table border=\"1\" class=\"dataframe\">\n",
       "  <thead>\n",
       "    <tr style=\"text-align: right;\">\n",
       "      <th></th>\n",
       "      <th>company</th>\n",
       "      <th>model</th>\n",
       "      <th>year</th>\n",
       "      <th>kms_driven</th>\n",
       "      <th>cc_type</th>\n",
       "      <th>fuel_type</th>\n",
       "      <th>place</th>\n",
       "      <th>ownership</th>\n",
       "      <th>price</th>\n",
       "    </tr>\n",
       "  </thead>\n",
       "  <tbody>\n",
       "    <tr>\n",
       "      <th>4321</th>\n",
       "      <td>others</td>\n",
       "      <td>2019 Honda Activa 125 Standard</td>\n",
       "      <td>2014</td>\n",
       "      <td>36100</td>\n",
       "      <td>100 - 125 cc</td>\n",
       "      <td>Petrol</td>\n",
       "      <td>kolar</td>\n",
       "      <td>First</td>\n",
       "      <td>28000</td>\n",
       "    </tr>\n",
       "  </tbody>\n",
       "</table>\n",
       "</div>"
      ],
      "text/plain": [
       "     company                           model  year  kms_driven       cc_type  \\\n",
       "4321  others  2019 Honda Activa 125 Standard  2014       36100  100 - 125 cc   \n",
       "\n",
       "     fuel_type  place ownership  price  \n",
       "4321    Petrol  kolar     First  28000  "
      ]
     },
     "execution_count": 59,
     "metadata": {},
     "output_type": "execute_result"
    }
   ],
   "source": [
    "df.loc[df['model']=='2019 Honda Activa 125 Standard']"
   ]
  },
  {
   "cell_type": "code",
   "execution_count": 60,
   "metadata": {},
   "outputs": [],
   "source": [
    "df.loc[[4321], 'model'] = 'Activa 125 Standard'\n",
    "df.loc[[4321], 'company'] = 'Honda'"
   ]
  },
  {
   "cell_type": "code",
   "execution_count": 61,
   "metadata": {},
   "outputs": [
    {
     "data": {
      "text/html": [
       "<div>\n",
       "<style scoped>\n",
       "    .dataframe tbody tr th:only-of-type {\n",
       "        vertical-align: middle;\n",
       "    }\n",
       "\n",
       "    .dataframe tbody tr th {\n",
       "        vertical-align: top;\n",
       "    }\n",
       "\n",
       "    .dataframe thead th {\n",
       "        text-align: right;\n",
       "    }\n",
       "</style>\n",
       "<table border=\"1\" class=\"dataframe\">\n",
       "  <thead>\n",
       "    <tr style=\"text-align: right;\">\n",
       "      <th></th>\n",
       "      <th>company</th>\n",
       "      <th>model</th>\n",
       "      <th>year</th>\n",
       "      <th>kms_driven</th>\n",
       "      <th>cc_type</th>\n",
       "      <th>fuel_type</th>\n",
       "      <th>place</th>\n",
       "      <th>ownership</th>\n",
       "      <th>price</th>\n",
       "    </tr>\n",
       "  </thead>\n",
       "  <tbody>\n",
       "    <tr>\n",
       "      <th>5808</th>\n",
       "      <td>others</td>\n",
       "      <td>TVS Star City Plus Mono Tone BS6</td>\n",
       "      <td>2016</td>\n",
       "      <td>20380</td>\n",
       "      <td>100 - 125 cc</td>\n",
       "      <td>Petrol</td>\n",
       "      <td>viluppuram</td>\n",
       "      <td>First</td>\n",
       "      <td>50000</td>\n",
       "    </tr>\n",
       "  </tbody>\n",
       "</table>\n",
       "</div>"
      ],
      "text/plain": [
       "     company                              model  year  kms_driven  \\\n",
       "5808  others   TVS Star City Plus Mono Tone BS6  2016       20380   \n",
       "\n",
       "           cc_type fuel_type       place ownership  price  \n",
       "5808  100 - 125 cc    Petrol  viluppuram     First  50000  "
      ]
     },
     "execution_count": 61,
     "metadata": {},
     "output_type": "execute_result"
    }
   ],
   "source": [
    "df.loc[df['model']==' TVS Star City Plus Mono Tone BS6']"
   ]
  },
  {
   "cell_type": "code",
   "execution_count": 62,
   "metadata": {},
   "outputs": [],
   "source": [
    "df.loc[5808, 'model'] = 'Star City Plus Mono Tone BS6'\n",
    "df.loc[5808, 'company'] = 'TVS'"
   ]
  },
  {
   "cell_type": "code",
   "execution_count": 63,
   "metadata": {},
   "outputs": [
    {
     "data": {
      "text/plain": [
       "model\n",
       "220                53\n",
       "125                18\n",
       "125 M Disc         15\n",
       "100M               13\n",
       "100 M Disc          3\n",
       "150                 2\n",
       "100 Spoke Wheel     1\n",
       "Name: count, dtype: int64"
      ]
     },
     "execution_count": 63,
     "metadata": {},
     "output_type": "execute_result"
    }
   ],
   "source": [
    "df.loc[df['company']=='others']['model'].value_counts()"
   ]
  },
  {
   "cell_type": "code",
   "execution_count": 64,
   "metadata": {},
   "outputs": [
    {
     "data": {
      "text/plain": [
       "array(['Petrol', 'petrol', 'Electric', 'PETROL'], dtype=object)"
      ]
     },
     "execution_count": 64,
     "metadata": {},
     "output_type": "execute_result"
    }
   ],
   "source": [
    "df['fuel_type'].unique()"
   ]
  },
  {
   "cell_type": "code",
   "execution_count": 65,
   "metadata": {},
   "outputs": [
    {
     "data": {
      "text/plain": [
       "array(['petrol', 'electric'], dtype=object)"
      ]
     },
     "execution_count": 65,
     "metadata": {},
     "output_type": "execute_result"
    }
   ],
   "source": [
    "df['fuel_type'] = df.apply(lambda row : row['fuel_type'].lower(), axis = 1)\n",
    "df['fuel_type'].unique()"
   ]
  },
  {
   "cell_type": "code",
   "execution_count": 66,
   "metadata": {},
   "outputs": [
    {
     "name": "stdout",
     "output_type": "stream",
     "text": [
      "Categories in 'Fuel type' variable:     ['petrol' 'electric']\n",
      "\n",
      "Categories in 'company' variable:     ['Hero Honda' 'Hero' 'TVS' 'Bajaj' 'Honda' 'Suzuki' 'others' 'Mahindra'\n",
      " 'Yamaha' 'KTM' 'kawasaki' 'Royal Enfield' 'ES' 'Street' 'Vespa' 'Aprilia'\n",
      " 'Husqvarna' 'UM' 'Hyosung' 'Harley Davidson' 'Kawasaki' 'BMW' 'Slingshot'\n",
      " 'Black' 'Jawa' 'Ducati' 'Benelli' 'Okinawa' 'Ampere' 'Triumph']\n",
      "\n",
      "Categories in 'year' variable:     [2013 2015 2017 2018 2012 2016 2011 2010 2014 2009 2019 2005 2007 2004\n",
      " 2020 2008 2006 2022 2021 2003 1999 1995 2002]\n",
      "\n",
      "Categories in 'CC type' variable:     ['Upto 100 cc' '100 - 125 cc' '125 - 150 cc' '150 - 200 cc' '200 - 250 cc'\n",
      " '250 - 500 cc' '500 - 1000 cc' '1000 and above']\n",
      "\n",
      "Categories in 'ownership' variable:     ['First' 'Second' 'Thrid' 'Fourth']\n",
      "\n"
     ]
    }
   ],
   "source": [
    "print(\"Categories in 'Fuel type' variable:    \", end=' ')\n",
    "print(df['fuel_type'].unique(), end='\\n\\n')\n",
    "\n",
    "print(\"Categories in 'company' variable:    \", end=' ')\n",
    "print(df['company'].unique(), end='\\n\\n')\n",
    "\n",
    "print(\"Categories in 'year' variable:    \", end=' ')\n",
    "print(df['year'].unique(), end='\\n\\n')\n",
    "\n",
    "print(\"Categories in 'CC type' variable:    \", end=' ')\n",
    "print(df['cc_type'].unique(), end='\\n\\n')\n",
    "\n",
    "print(\"Categories in 'ownership' variable:    \", end=' ')\n",
    "print(df['ownership'].unique(), end='\\n\\n')"
   ]
  },
  {
   "cell_type": "code",
   "execution_count": 67,
   "metadata": {},
   "outputs": [],
   "source": [
    "numerical_features = [feature for feature in df.columns if df[feature].dtype!='O']\n",
    "categorical_features = [feature for feature in df.columns if df[feature].dtype=='O']"
   ]
  },
  {
   "cell_type": "code",
   "execution_count": 68,
   "metadata": {},
   "outputs": [
    {
     "name": "stdout",
     "output_type": "stream",
     "text": [
      "We have 3 Numerical Features : ['year', 'kms_driven', 'price']\n",
      "\n",
      "We have 6 Numerical Features : ['company', 'model', 'cc_type', 'fuel_type', 'place', 'ownership']\n"
     ]
    }
   ],
   "source": [
    "print(f\"We have {len(numerical_features)} Numerical Features : {numerical_features}\", end='\\n\\n')\n",
    "print(f\"We have {len(categorical_features)} Numerical Features : {categorical_features}\")"
   ]
  },
  {
   "cell_type": "code",
   "execution_count": 77,
   "metadata": {},
   "outputs": [],
   "source": [
    "df.reset_index(drop=True, inplace=True)"
   ]
  },
  {
   "cell_type": "code",
   "execution_count": 78,
   "metadata": {},
   "outputs": [],
   "source": [
    "df.to_csv('../data/BikeDekho.csv', index=None)"
   ]
  },
  {
   "attachments": {},
   "cell_type": "markdown",
   "metadata": {},
   "source": [
    "## 4) Exploring Data (Vizualization)"
   ]
  },
  {
   "cell_type": "code",
   "execution_count": 98,
   "metadata": {},
   "outputs": [
    {
     "data": {
      "image/png": "[encoded data removed]",
      "text/plain": [
       "<Figure size 1000x500 with 1 Axes>"
      ]
     },
     "metadata": {},
     "output_type": "display_data"
    }
   ],
   "source": [
    "# fig, ax = plt.subplots()\n",
    "plt.figure(figsize=(10,5))\n",
    "plt.bar(df['company'],df['price'])\n",
    "plt.xticks(rotation = 90) \n",
    "plt.show()"
   ]
  },
  {
   "cell_type": "code",
   "execution_count": 99,
   "metadata": {},
   "outputs": [
    {
     "data": {
      "image/png": "[encoded data removed]",
      "text/plain": [
       "<Figure size 1000x500 with 1 Axes>"
      ]
     },
     "metadata": {},
     "output_type": "display_data"
    }
   ],
   "source": [
    "plt.figure(figsize=(10,5))\n",
    "plt.bar(df['cc_type'],df['price'])\n",
    "plt.xticks(rotation = 45) \n",
    "plt.show()"
   ]
  },
  {
   "cell_type": "code",
   "execution_count": 100,
   "metadata": {},
   "outputs": [
    {
     "data": {
      "image/png": "[encoded data removed]",
      "text/plain": [
       "<Figure size 700x500 with 1 Axes>"
      ]
     },
     "metadata": {},
     "output_type": "display_data"
    }
   ],
   "source": [
    "plt.figure(figsize=(7,5))\n",
    "plt.bar(df['ownership'],df['price'])\n",
    "plt.xticks(rotation = 45) \n",
    "plt.show()"
   ]
  },
  {
   "cell_type": "code",
   "execution_count": 113,
   "metadata": {},
   "outputs": [
    {
     "data": {
      "text/plain": [
       "<Axes: xlabel='kms_driven', ylabel='price'>"
      ]
     },
     "execution_count": 113,
     "metadata": {},
     "output_type": "execute_result"
    },
    {
     "data": {
      "image/png": "[encoded data removed]",
      "text/plain": [
       "<Figure size 1000x700 with 1 Axes>"
      ]
     },
     "metadata": {},
     "output_type": "display_data"
    }
   ],
   "source": [
    "plt.figure(figsize=(10,7))\n",
    "sns.barplot(x=df['kms_driven'], y=df['price'],estimator='median', n_boot=100000)"
   ]
  },
  {
   "cell_type": "code",
   "execution_count": null,
   "metadata": {},
   "outputs": [],
   "source": []
  },
  {
   "cell_type": "code",
   "execution_count": null,
   "metadata": {},
   "outputs": [],
   "source": []
  },
  {
   "cell_type": "code",
   "execution_count": null,
   "metadata": {},
   "outputs": [],
   "source": []
  },
  {
   "cell_type": "code",
   "execution_count": null,
   "metadata": {},
   "outputs": [],
   "source": []
  }
 ],
 "metadata": {
  "kernelspec": {
   "display_name": "Python 3",
   "language": "python",
   "name": "python3"
  },
  "language_info": {
   "codemirror_mode": {
    "name": "ipython",
    "version": 3
   },
   "file_extension": ".py",
   "mimetype": "text/x-python",
   "name": "python",
   "nbconvert_exporter": "python",
   "pygments_lexer": "ipython3",
   "version": "3.8.10"
  },
  "orig_nbformat": 4
 },
 "nbformat": 4,
 "nbformat_minor": 2
}
