{
 "cells": [
  {
   "cell_type": "code",
   "execution_count": 1,
   "metadata": {},
   "outputs": [],
   "source": [
    "from selenium import webdriver\n",
    "from selenium.webdriver.common.by import By\n",
    "from selenium.webdriver.support.ui import WebDriverWait\n",
    "from selenium.webdriver.common.keys import Keys\n",
    "from selenium.webdriver.chrome.options import Options\n"
   ]
  },
  {
   "cell_type": "code",
   "execution_count": 2,
   "metadata": {},
   "outputs": [],
   "source": [
    "from bs4 import BeautifulSoup\n",
    "from time import sleep\n",
    "import pandas as pd\n",
    "import numpy as np\n",
    "import re"
   ]
  },
  {
   "cell_type": "code",
   "execution_count": 3,
   "metadata": {},
   "outputs": [
    {
     "ename": "FileNotFoundError",
     "evalue": "[Errno 2] No such file or directory: 'Scraper/Bike_Scrape/Bike_dekho/BikeDekho_places.html'",
     "output_type": "error",
     "traceback": [
      "\u001b[0;31m---------------------------------------------------------------------------\u001b[0m",
      "\u001b[0;31mFileNotFoundError\u001b[0m                         Traceback (most recent call last)",
      "Cell \u001b[0;32mIn[3], line 1\u001b[0m\n\u001b[0;32m----> 1\u001b[0m \u001b[39mfrom\u001b[39;00m \u001b[39mplaces\u001b[39;00m \u001b[39mimport\u001b[39;00m places_list\n\u001b[1;32m      2\u001b[0m all_places \u001b[39m=\u001b[39m places_list()\n\u001b[1;32m      3\u001b[0m base_link \u001b[39m=\u001b[39m \u001b[39m\"\u001b[39m\u001b[39mhttps://www.bikedekho.com/used-cars+\u001b[39m\u001b[39m\"\u001b[39m\n",
      "File \u001b[0;32m~/Coding/Commodity/Scraper/Bike_Scrape/Bike_dekho/places.py:5\u001b[0m\n\u001b[1;32m      2\u001b[0m \u001b[39mfrom\u001b[39;00m \u001b[39mbs4\u001b[39;00m \u001b[39mimport\u001b[39;00m BeautifulSoup\n\u001b[1;32m      3\u001b[0m \u001b[39mimport\u001b[39;00m \u001b[39mjson\u001b[39;00m\n\u001b[0;32m----> 5\u001b[0m \u001b[39mwith\u001b[39;00m \u001b[39mopen\u001b[39;49m(\u001b[39m'\u001b[39;49m\u001b[39mScraper/Bike_Scrape/Bike_dekho/BikeDekho_places.html\u001b[39;49m\u001b[39m'\u001b[39;49m) \u001b[39mas\u001b[39;00m f:\n\u001b[1;32m      6\u001b[0m     page_html_list \u001b[39m=\u001b[39m f\u001b[39m.\u001b[39mreadlines()\n\u001b[1;32m      7\u001b[0m     page_html_str \u001b[39m=\u001b[39m \u001b[39m'\u001b[39m\u001b[39m'\u001b[39m\u001b[39m.\u001b[39mjoin(page_html_list)\n",
      "\u001b[0;31mFileNotFoundError\u001b[0m: [Errno 2] No such file or directory: 'Scraper/Bike_Scrape/Bike_dekho/BikeDekho_places.html'"
     ]
    }
   ],
   "source": [
    "from places import places_list\n",
    "all_places = places_list()\n",
    "base_link = \"https://www.bikedekho.com/used-cars+\""
   ]
  },
  {
   "cell_type": "code",
   "execution_count": 4,
   "metadata": {},
   "outputs": [],
   "source": [
    "engine_types = [\n",
    "    'upto-100cc',\n",
    "    '100cc-125cc',\n",
    "    '125cc-150cc',\n",
    "    '150cc-200cc',\n",
    "    '200cc-250cc',\n",
    "    '250cc-500cc',\n",
    "    '500cc-1000cc',\n",
    "    'above-1000cc'\n",
    "    ]\n"
   ]
  },
  {
   "cell_type": "code",
   "execution_count": 5,
   "metadata": {},
   "outputs": [],
   "source": [
    "options = Options()\n",
    "options.add_argument(\"start-maximized\")\n",
    "driver = webdriver.Chrome(options=options)"
   ]
  },
  {
   "cell_type": "code",
   "execution_count": 6,
   "metadata": {},
   "outputs": [],
   "source": [
    "driver.get('https://www.bikedekho.com/used-cars+in+anantapur')"
   ]
  },
  {
   "cell_type": "code",
   "execution_count": 7,
   "metadata": {},
   "outputs": [],
   "source": [
    "def load_till_last():\n",
    "    last_height = driver.execute_script(\"return document.body.scrollHeight\")\n",
    "    while True:\n",
    "        # Scroll down to bottom\n",
    "        driver.execute_script(\"window.scrollTo(0, document.body.scrollHeight);\")\n",
    "\n",
    "        # Wait to load page\n",
    "        sleep(2)\n",
    "\n",
    "        # Calculate new scroll height and compare with last scroll height\n",
    "        new_height = driver.execute_script(\"return document.body.scrollHeight\")\n",
    "        if new_height == last_height:\n",
    "            break\n",
    "        last_height = new_height\n",
    "    driver.execute_script(\"window.scrollTo(0, 100);\")\n",
    "    return None"
   ]
  },
  {
   "cell_type": "code",
   "execution_count": 8,
   "metadata": {},
   "outputs": [],
   "source": [
    "def split_title_line(text):\n",
    "    list1 = text.split(' ')\n",
    "\n",
    "    try:\n",
    "        if (re.search(r'[1-2][0-9][0-9][0-9]', text).span()[0] == 0):\n",
    "            year = list1[0]\n",
    "            list1.pop(0)\n",
    "        else:\n",
    "            year=np.nan\n",
    "    except:\n",
    "        year=np.nan\n",
    "\n",
    "    try:    \n",
    "        if (re.search(r'[a-zA-Z]', text).span()[0] == 5):\n",
    "            company = list1[0]\n",
    "            list1.pop(0)\n",
    "        elif (re.search(r'[a-zA-Z]', text).span()[0] == 0):\n",
    "            company = list1[0]\n",
    "            list1.pop(0)\n",
    "        else:\n",
    "            company = 'others'\n",
    "    except:\n",
    "        company = 'others'\n",
    "\n",
    "    if list1[0].lower() in ['enfield', 'davidson', 'honda',]:\n",
    "        company+=' '+list1[0]\n",
    "        list1.pop(0)\n",
    "\n",
    "    model = ' '.join(list1)\n",
    "\n",
    "    return year, company, model"
   ]
  },
  {
   "cell_type": "code",
   "execution_count": 9,
   "metadata": {},
   "outputs": [],
   "source": [
    "def split_dot_list(span_list):\n",
    "    i = 0\n",
    "    if span_list[i].text.lstrip().rstrip().lower() not in ['petrol', 'electric', 'first', 'second']:\n",
    "        kms_driven = span_list[i].text.lstrip().rstrip()\n",
    "        i+=1\n",
    "    else:\n",
    "        kms_driven = np.nan\n",
    "    if span_list[i].text.lstrip().rstrip()[3:].lower() in ['petrol', 'electric']:\n",
    "        fuel_type = span_list[i].text.lstrip().rstrip()[3:]\n",
    "        i+=1\n",
    "        try:\n",
    "            ownership = span_list[i].text.lstrip().rstrip()[3:]\n",
    "        except:\n",
    "            ownership = np.nan\n",
    "    elif span_list[i].text.lstrip().rstrip()[3:].lower() in ['first', 'second']:\n",
    "        fuel_type = np.nan\n",
    "        ownership = span_list[i].text.lstrip().rstrip()[3:]\n",
    "    \n",
    "    # ownership = span_list[i].text.lstrip().rstrip()[3:]\n",
    "    return kms_driven, fuel_type, ownership"
   ]
  },
  {
   "cell_type": "code",
   "execution_count": 10,
   "metadata": {},
   "outputs": [],
   "source": [
    "def get_price(price_element):\n",
    "    price_element.find('sup').decompose()\n",
    "    price_element.find('span', {'class':'icon-cd_R'}).decompose()\n",
    "    return price_element.text.rstrip().lstrip()"
   ]
  },
  {
   "cell_type": "code",
   "execution_count": 11,
   "metadata": {},
   "outputs": [],
   "source": [
    "def get_details(bike_element):\n",
    "    html_cntnt = bike_element.get_attribute('outerHTML') \n",
    "    soup = BeautifulSoup(html_cntnt, 'html.parser')\n",
    "    kms_driven, fuel_type, ownership = split_dot_list(\n",
    "        soup.find(\n",
    "            'div', \n",
    "            {'class':'dotlist'}\n",
    "            ).findChildren()\n",
    "        )\n",
    "    price = get_price(\n",
    "        soup.find(\n",
    "            'div', \n",
    "            {'class':'price'})\n",
    "        )\n",
    "    year, company, model = split_title_line(\n",
    "        soup.find(\n",
    "            'div', \n",
    "            {'class':'title'}\n",
    "            ).text.rstrip().lstrip()\n",
    "        )\n",
    "\n",
    "    return company, model,year,kms_driven,fuel_type,ownership,price\n",
    "\n"
   ]
  },
  {
   "cell_type": "code",
   "execution_count": 16,
   "metadata": {},
   "outputs": [
    {
     "name": "stdout",
     "output_type": "stream",
     "text": [
      "true\n"
     ]
    }
   ],
   "source": [
    "Xpath_to_engine_type = '//*[@id=\"rf01\"]/div[1]/div/main/div[1]/div[2]/div/div[4]/div[6]/div/ul/'\n",
    "# //*[@id=\"rf01\"]/div[1]/div/main/div[1]/div[2]/div/div[4]/div[5]/div/ul/li[4]/label\n",
    "# cc_types = [i.text for i in driver.find_elements(By.XPATH, f'{Xpath_to_engine_type}li')]\n",
    "# driver.find_element(By.XPATH, f'{Xpath_to_engine_type}li[4]/label').click()\n",
    "sleep(5)\n",
    "driver.find_element(By.XPATH, f'{Xpath_to_engine_type}li[4]/label').click()\n",
    "if 'cc' in driver.find_element(By.XPATH, f'{Xpath_to_engine_type}/li').text:\n",
    "    print('true')"
   ]
  },
  {
   "cell_type": "code",
   "execution_count": 13,
   "metadata": {},
   "outputs": [],
   "source": [
    "def get_through_cc(cc, cc_num, place, dictionary):\n",
    "    driver.find_element(By.XPATH, f'{Xpath_to_engine_type}li[{str(cc_num)}]/label').click()\n",
    "    sleep(3)\n",
    "    load_till_last()\n",
    "    \n",
    "    list_of_bikes_element = driver.find_elements(By.CLASS_NAME, 'reportAd')\n",
    "    \n",
    "    print(len(list_of_bikes_element))\n",
    "    print(cc)\n",
    "    for bike_element in list_of_bikes_element:\n",
    "        company, model,year,kms_driven,fuel_type,ownership,price = get_details(bike_element)\n",
    "        dictionary['company'].append(company)\n",
    "        dictionary['model'].append(model)\n",
    "        dictionary['year'].append(year)\n",
    "        dictionary['kms_driven'].append(kms_driven)\n",
    "        dictionary['fuel_type'].append(fuel_type)\n",
    "        dictionary['ownership'].append(ownership)\n",
    "        dictionary['price'].append(price)\n",
    "        dictionary['cc_type'].append(cc)\n",
    "        dictionary['place'].append(place)\n",
    "        \n",
    "    driver.find_element(By.XPATH, f'{Xpath_to_engine_type}li[{str(cc_num)}]/label').click()\n",
    "    return dictionary\n",
    "\n"
   ]
  },
  {
   "cell_type": "code",
   "execution_count": 14,
   "metadata": {},
   "outputs": [
    {
     "data": {
      "text/plain": [
       "['Upto 100 cc(13)',\n",
       " '100 - 125 cc(22)',\n",
       " '125 - 150 cc(15)',\n",
       " '150 - 200 cc(21)',\n",
       " '200 - 250 cc(3)',\n",
       " '250 - 500 cc(12)']"
      ]
     },
     "execution_count": 14,
     "metadata": {},
     "output_type": "execute_result"
    }
   ],
   "source": [
    "[i.text for i in driver.find_elements(By.XPATH, f'{Xpath_to_engine_type}li')]"
   ]
  },
  {
   "cell_type": "code",
   "execution_count": 15,
   "metadata": {},
   "outputs": [],
   "source": [
    "def create_dict():\n",
    "    return {\n",
    "            'company':[], \n",
    "            'model': [],\n",
    "            'year':[], \n",
    "            'kms_driven':[], \n",
    "            'cc_type':[],\n",
    "            'fuel_type':[], \n",
    "            'place':[],\n",
    "            'ownership':[], \n",
    "            'price':[],\n",
    "        }"
   ]
  },
  {
   "cell_type": "code",
   "execution_count": 16,
   "metadata": {},
   "outputs": [],
   "source": [
    "def get_through_area(place):\n",
    "    driver.execute_script(\"window.open('');\")\n",
    "    driver.switch_to.window(driver.window_handles[1])\n",
    "    link = base_link+'in+'+place\n",
    "    driver.get(link)\n",
    "    sleep(3)\n",
    "    \n",
    "    df = pd.DataFrame(columns=['company', 'model', 'year', 'kms_driven', 'cc_type', 'fuel_type', 'place', 'ownership', 'price'], index=None)\n",
    "    \n",
    "    cc_types = [i.text for i in driver.find_elements(By.XPATH, f'{Xpath_to_engine_type}li')]\n",
    "    num=1\n",
    "    for cc in cc_types:\n",
    "        dictionary = create_dict()\n",
    "        dictionary = get_through_cc(\n",
    "            cc, \n",
    "            num,\n",
    "            place, \n",
    "            dictionary\n",
    "            )\n",
    "        num+=1\n",
    "        df = pd.concat([df, pd.DataFrame(dictionary, index=None)])\n",
    "        del dictionary\n",
    "        sleep(2)\n",
    "    \n",
    "    # Switching to old tab\n",
    "    driver.close()\n",
    "    driver.switch_to.window(driver.window_handles[0])\n",
    "\n",
    "    return df"
   ]
  },
  {
   "cell_type": "code",
   "execution_count": 17,
   "metadata": {},
   "outputs": [
    {
     "name": "stdout",
     "output_type": "stream",
     "text": [
      "1\n",
      "125 - 150 cc(1)\n",
      "1\n",
      "150 - 200 cc(1)\n",
      "1\n",
      "250 - 500 cc(1)\n",
      "1\n",
      "100 - 125 cc(1)\n",
      "1\n",
      "125 - 150 cc(1)\n",
      "1\n",
      "125 - 150 cc(1)\n",
      "1\n",
      "150 - 200 cc(1)\n",
      "2\n",
      "250 - 500 cc(2)\n",
      "1\n",
      "Upto 100 cc(1)\n",
      "1\n",
      "150 - 200 cc(1)\n",
      "1\n",
      "Upto 100 cc(1)\n",
      "1\n",
      "125 - 150 cc(1)\n"
     ]
    }
   ],
   "source": [
    "# len(all_places)\n",
    "df = pd.DataFrame()\n",
    "for place in all_places[40:45]:\n",
    "    df = pd.concat([df,get_through_area(place.replace(' ', '-').lower())])\n",
    "# get_through_area('ahmedabad')"
   ]
  },
  {
   "cell_type": "code",
   "execution_count": 18,
   "metadata": {},
   "outputs": [],
   "source": [
    "df.to_csv('BikeDekho.csv', index=None)"
   ]
  },
  {
   "cell_type": "code",
   "execution_count": null,
   "metadata": {},
   "outputs": [],
   "source": [
    "df.to_csv()"
   ]
  },
  {
   "cell_type": "code",
   "execution_count": null,
   "metadata": {},
   "outputs": [],
   "source": []
  },
  {
   "cell_type": "code",
   "execution_count": null,
   "metadata": {},
   "outputs": [],
   "source": []
  },
  {
   "cell_type": "code",
   "execution_count": null,
   "metadata": {},
   "outputs": [],
   "source": []
  },
  {
   "cell_type": "code",
   "execution_count": null,
   "metadata": {},
   "outputs": [],
   "source": []
  },
  {
   "cell_type": "code",
   "execution_count": null,
   "metadata": {},
   "outputs": [],
   "source": []
  }
 ],
 "metadata": {
  "kernelspec": {
   "display_name": "Python 3",
   "language": "python",
   "name": "python3"
  },
  "language_info": {
   "codemirror_mode": {
    "name": "ipython",
    "version": 3
   },
   "file_extension": ".py",
   "mimetype": "text/x-python",
   "name": "python",
   "nbconvert_exporter": "python",
   "pygments_lexer": "ipython3",
   "version": "3.8.10"
  },
  "orig_nbformat": 4
 },
 "nbformat": 4,
 "nbformat_minor": 2
}
