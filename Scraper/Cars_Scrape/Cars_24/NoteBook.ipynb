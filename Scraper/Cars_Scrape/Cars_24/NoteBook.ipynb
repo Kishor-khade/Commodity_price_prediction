{
 "cells": [
  {
   "cell_type": "code",
   "execution_count": 1,
   "metadata": {},
   "outputs": [],
   "source": [
    "from selenium import webdriver\n",
    "from selenium.webdriver.common.by import By\n",
    "from selenium.webdriver.support.ui import WebDriverWait\n",
    "from selenium.webdriver.common.keys import Keys\n",
    "from selenium.webdriver.chrome.options import Options\n"
   ]
  },
  {
   "cell_type": "code",
   "execution_count": 2,
   "metadata": {},
   "outputs": [],
   "source": [
    "from bs4 import BeautifulSoup\n",
    "from time import sleep\n",
    "import pandas as pd\n",
    "import numpy as np\n",
    "import re"
   ]
  },
  {
   "cell_type": "code",
   "execution_count": 3,
   "metadata": {},
   "outputs": [],
   "source": [
    "options = Options()\n",
    "options.add_argument(\"start-maximized\")\n",
    "driver = webdriver.Chrome(options=options)\n",
    "driver.get('https://www.cars24.com/buy-used-car/')"
   ]
  },
  {
   "cell_type": "code",
   "execution_count": 4,
   "metadata": {},
   "outputs": [],
   "source": [
    "def load_till_last():\n",
    "    last_height = driver.execute_script(\"return document.body.scrollHeight\")\n",
    "    while True:\n",
    "        # Scroll down to bottom\n",
    "        driver.execute_script(\"window.scrollTo(0, document.body.scrollHeight);\")\n",
    "        driver.execute_script(\"window.scrollTo(0, document.body.scrollHeight*0.60);\")\n",
    "        driver.execute_script(\"window.scrollTo(0, document.body.scrollHeight);\")\n",
    "\n",
    "        # Wait to load page\n",
    "        sleep(3)\n",
    "\n",
    "        # Calculate new scroll height and compare with last scroll height\n",
    "        new_height = driver.execute_script(\"return document.body.scrollHeight\")\n",
    "        if new_height == last_height:\n",
    "            break\n",
    "        last_height = new_height\n",
    "    driver.execute_script(\"window.scrollTo(0, 100);\")\n",
    "    return None"
   ]
  },
  {
   "cell_type": "code",
   "execution_count": 5,
   "metadata": {},
   "outputs": [
    {
     "data": {
      "text/plain": [
       "['2013 Mahindra Bolero\\nSLX BS IVManual\\n83,078 KM\\n2ND OWNER\\nDIESEL\\nHR-03\\n₹8,798/month\\nZero Down Payment\\n₹4,50,000\\nParas Downtown Square, Chandigarh',\n",
       " '₹54,000\\noff\\n2018 Maruti IGNIS\\nSIGMA 1.2Manual\\n35,874 KM\\n2ND OWNER\\nPETROL\\nDL-12\\n₹7,761/month\\nZero Down Payment\\n₹3,97,000\\n₹4,51,000\\nM3M Urbana, Golf Course Extension, Gurugram',\n",
       " '2011 Maruti Ritz\\nVXIManual\\n64,449 KM\\n2ND OWNER\\nPETROL\\nMH-01\\n₹3,675/month\\nZero Down Payment\\n₹1,88,000\\nKharbi, Nagpur',\n",
       " '₹5,000\\noff\\n2010 Maruti Alto\\nLXIManual\\n49,984 KM\\n1ST OWNER\\nPETROL\\nUP-14\\n₹2,385/month\\nZero Down Payment\\n₹1,22,000\\n₹1,27,000\\nSpectrum Metro, Sector 75, Noida',\n",
       " '2011 Hyundai Verna\\nFLUIDIC 1.6 CRDI SXManual\\n95,877 KM\\n3RD OWNER\\nDIESEL\\nMH-12\\n₹7,957/month\\nZero Down Payment\\n₹4,07,000\\nTathawade, Pune',\n",
       " '2013 Hyundai Verna\\nFLUIDIC 1.6 CRDI SXManual\\n1,22,321 KM\\n2ND OWNER\\nDIESEL\\nMH-49\\n₹9,091/month\\nZero Down Payment\\n₹4,65,000\\nKharbi, Nagpur',\n",
       " '₹26,000\\noff\\n2011 Honda City\\nS MT PETROLManual\\n89,933 KM\\n2ND OWNER\\nPETROL\\nHR-26\\n₹5,709/month\\nZero Down Payment\\n₹2,92,000\\n₹3,18,000\\nSector-18, Noida',\n",
       " '₹41,000\\noff\\n2014 Honda City\\n1.5L I-DTEC SVManual\\n94,591 KM\\n1ST OWNER\\nDIESEL\\nGJ-05\\n₹9,384/month\\nZero Down Payment\\n₹4,80,000\\n₹5,21,000\\nSachin Magdalla Road, Surat',\n",
       " '₹7,000\\noff\\n2022 Tata PUNCH\\nACCOMPLISHED MTManual\\n4,853 KM\\n1ST OWNER\\nPETROL\\nDL-3C\\n₹15,073/month\\nZero Down Payment\\n₹7,71,000\\n₹7,78,000\\nM3M Urbana, Golf Course Extension, Gurugram',\n",
       " '2010 Maruti Alto K10\\nVXIManual\\n60,180 KM\\n2ND OWNER\\nPETROL\\nHR-20\\n₹3,460/month\\nZero Down Payment\\n₹1,77,000\\nParsvnath City Mall, Faridabad',\n",
       " '₹82,000\\noff\\n2019 Honda WR-V\\n1.5L I-DTEC S ALIVE EDITIONManual\\n69,396 KM\\n1ST OWNER\\nDIESEL\\nBR-06\\n₹14,545/month\\nZero Down Payment\\n₹7,44,000\\n₹8,26,000\\nAtal Path, Patna',\n",
       " '₹30,000\\noff\\n2018 Tata Tiago\\nXZA PETROLAutomatic\\n47,983 KM\\n1ST OWNER\\nPETROL\\nMH-03\\n₹9,286/month\\nZero Down Payment\\n₹4,75,000\\n₹5,05,000\\nKharbi, Nagpur',\n",
       " '₹33,000\\noff\\n2016 Hyundai i20 Active\\n1.4 SXManual\\n93,125 KM\\n2ND OWNER\\nDIESEL\\nKA-25\\n₹10,948/month\\nZero Down Payment\\n₹5,60,000\\n₹5,93,000\\nBellahalli, Bengaluru',\n",
       " '2011 Hyundai i10\\nERA 1.1Manual\\n59,980 KM\\n2ND OWNER\\nPETROL\\nKA-19\\n₹4,966/month\\nZero Down Payment\\n₹2,54,000\\nHosur Road, Singasandra, Bengaluru',\n",
       " '₹50,000\\noff\\n2014 Maruti Swift\\nVXI DManual\\n59,956 KM\\n2ND OWNER\\nPETROL\\nMH-03\\n₹6,921/month\\nZero Down Payment\\n₹3,54,000\\n₹4,04,000\\nUndri, Pune',\n",
       " '2011 Toyota Etios\\nGManual\\n73,333 KM\\n2ND OWNER\\nPETROL\\nDL-3C\\n₹3,460/month\\nZero Down Payment\\n₹1,77,000\\nMetro Walk, Rohini, New Delhi',\n",
       " '2019 Honda WR-V\\n1.5L I-DTEC S MTManual\\n33,778 KM\\n1ST OWNER\\nDIESEL\\nHR-29\\n₹13,060/month\\nZero Down Payment\\n₹6,68,000\\nM3M Urbana, Golf Course Extension, Gurugram',\n",
       " '₹8,000\\noff\\n2011 Maruti Alto K10\\nVXIManual\\n67,524 KM\\n2ND OWNER\\nPETROL\\nUP-70\\n₹3,558/month\\nZero Down Payment\\n₹1,82,000\\n₹1,90,000\\nAnsal Golf City, Lucknow',\n",
       " '₹17,000\\noff\\n2016 Hyundai Xcent\\nBASE 1.2Manual\\n29,550 KM\\n1ST OWNER\\nPETROL\\nWB-24\\n₹6,393/month\\nZero Down Payment\\n₹3,27,000\\n₹3,44,000\\nBarasat, Kolkata',\n",
       " '2015 Honda Amaze\\n1.5L I-DTEC SManual\\n81,409 KM\\n1ST OWNER\\nDIESEL\\nKA-05\\n₹8,387/month\\nZero Down Payment\\n₹4,29,000\\nBellahalli, Bengaluru']"
      ]
     },
     "execution_count": 5,
     "metadata": {},
     "output_type": "execute_result"
    }
   ],
   "source": [
    "[i.text for i in driver.find_elements(By.CLASS_NAME, '_2kfVy')]"
   ]
  },
  {
   "cell_type": "code",
   "execution_count": 6,
   "metadata": {},
   "outputs": [],
   "source": [
    "XPath_to_model_list = '/html/body/div[1]/div[1]/div[2]/div/div/div[1]/div/div[1]/div[3]/ul'"
   ]
  },
  {
   "cell_type": "code",
   "execution_count": 7,
   "metadata": {},
   "outputs": [],
   "source": [
    "def SplitEngineDetail(html_list):\n",
    "    transmission = html_list[2].text\n",
    "    engine_type = html_list[0].text\n",
    "    return engine_type, transmission"
   ]
  },
  {
   "cell_type": "code",
   "execution_count": 8,
   "metadata": {},
   "outputs": [],
   "source": [
    "def SplitCarDetails(html_list):\n",
    "    kms_driven = html_list[0].text\n",
    "    owner_type = html_list[1].text\n",
    "    fuel_type = html_list[2].text\n",
    "    passing = html_list[3].text\n",
    "    return kms_driven, owner_type, fuel_type, passing"
   ]
  },
  {
   "cell_type": "code",
   "execution_count": 9,
   "metadata": {},
   "outputs": [],
   "source": [
    "def SplitTitle(text):\n",
    "    title_list = text.split(' ')\n",
    "    year = title_list[0]\n",
    "    model = ' '.join(title_list[2:])\n",
    "    cmpny = title_list[1]\n",
    "    return year, cmpny, model"
   ]
  },
  {
   "cell_type": "code",
   "execution_count": 10,
   "metadata": {},
   "outputs": [
    {
     "name": "stdout",
     "output_type": "stream",
     "text": [
      "('2011', 'Toyota', 'Etios')\n",
      "('G', 'Manual')\n",
      "('73,333 km', '2nd Owner', 'Petrol', 'DL-3C')\n",
      "1,77,000\n",
      " New Delhi\n"
     ]
    }
   ],
   "source": [
    "for car_element in driver.find_elements(By.CLASS_NAME, '_2kfVy')[15:]:\n",
    "    html_cntnt = car_element.get_attribute('outerHTML')\n",
    "    soup = BeautifulSoup(html_cntnt, 'html.parser')\n",
    "    print(SplitTitle( soup.find('h2', {'class':'_2lmIw'}).text))\n",
    "    print(SplitEngineDetail(soup.find('ul',{'class':'_1hOnS'}).findChildren()))\n",
    "    print(SplitCarDetails(soup.find('ul',{'class':'_13yb6'}).findChildren()))\n",
    "    print(soup.find('div',{'class':'_18ToE'}).findChildren()[0].text[1:])\n",
    "    print(soup.find('span',{'class':'_3DYbK'}).text.split(',')[-1])\n",
    "    break"
   ]
  },
  {
   "cell_type": "code",
   "execution_count": 11,
   "metadata": {},
   "outputs": [],
   "source": [
    "def create_dictionary():\n",
    "    return {\n",
    "        'Year':[],\n",
    "        'Company':[],\n",
    "        'Model':[],\n",
    "        'Transmission':[],\n",
    "        'Engine_Type':[],\n",
    "        'Kms_Driven':[],\n",
    "        'ownership':[],\n",
    "        'Fuel_Type':[],\n",
    "        'Passing':[],\n",
    "        'Area':[],\n",
    "        'Price':[],\n",
    "    }"
   ]
  },
  {
   "cell_type": "code",
   "execution_count": 12,
   "metadata": {},
   "outputs": [],
   "source": [
    "def get_car_details(dictionary, soup):\n",
    "    year, cmpny, model = SplitTitle(soup.find('h2', {'class':'_2lmIw'}).text)\n",
    "    engine_type, transmission = SplitEngineDetail(soup.find('ul',{'class':'_1hOnS'}).findChildren())\n",
    "    kms_driven, owner_type, fuel_type, passing = SplitCarDetails(soup.find('ul',{'class':'_13yb6'}).findChildren())\n",
    "    price = soup.find('div',{'class':'_18ToE'}).findChildren()[0].text[1:]\n",
    "    area = soup.find('span',{'class':'_3DYbK'}).text.split(',')[-1]\n",
    "    dictionary['Year'].append(year)\n",
    "    dictionary['Company'].append(cmpny)\n",
    "    dictionary['Model'].append(model)\n",
    "    dictionary['Transmission'].append(transmission)\n",
    "    dictionary['Engine_Type'].append(engine_type)\n",
    "    dictionary['Kms_Driven'].append(kms_driven)\n",
    "    dictionary['ownership'].append(owner_type)\n",
    "    dictionary['Fuel_Type'].append(fuel_type)\n",
    "    dictionary['Passing'].append(passing)\n",
    "    dictionary['Area'].append(area.replace('\\n', ''))\n",
    "    dictionary['Price'].append(price)\n",
    "    \n",
    "    return dictionary       \n",
    "    \n"
   ]
  },
  {
   "cell_type": "code",
   "execution_count": 13,
   "metadata": {},
   "outputs": [],
   "source": [
    "def get_current__page_data():\n",
    "    dictionary = create_dictionary()\n",
    "    for car_element in driver.find_elements(By.CLASS_NAME, '_2kfVy'):\n",
    "        html_cntnt = car_element.get_attribute('outerHTML')\n",
    "        soup = BeautifulSoup(html_cntnt, 'html.parser')\n",
    "        dictionary = get_car_details(dictionary, soup)\n",
    "\n",
    "    return pd.DataFrame(dictionary)"
   ]
  },
  {
   "cell_type": "code",
   "execution_count": 14,
   "metadata": {},
   "outputs": [],
   "source": [
    "def traverse_through_cmpny(car_cmpny_list):\n",
    "    num = 14\n",
    "    df = pd.DataFrame()\n",
    "    # df = pd.read_csv('Cars_24.csv')\n",
    "    for cmpny in car_cmpny_list[num-2:]:\n",
    "        # select cmpny \n",
    "        sleep(2)\n",
    "        driver.find_element(By.XPATH,f\"{XPath_to_model_list}[{num}]/li/div/div/div/div\").click()\n",
    "        load_till_last()\n",
    "        df = pd.concat([df, get_current__page_data()])\n",
    "        \n",
    "        # deselect cmpny\n",
    "        sleep(2)\n",
    "        driver.find_element(By.XPATH,f\"{XPath_to_model_list}[{num}]/li/div/div/div/div\").click()\n",
    "        num+=1\n",
    "        df.to_csv('Cars_24.csv', index=None)\n",
    "        print(cmpny)\n",
    "        "
   ]
  },
  {
   "cell_type": "code",
   "execution_count": 15,
   "metadata": {},
   "outputs": [],
   "source": [
    "def get_data():\n",
    "    car_cmpny_list = [i.text for i in driver.find_elements(By.XPATH, XPath_to_model_list)[1:] if '(0)' not in i.text]\n",
    "    return traverse_through_cmpny(car_cmpny_list)"
   ]
  },
  {
   "cell_type": "code",
   "execution_count": 16,
   "metadata": {},
   "outputs": [
    {
     "name": "stdout",
     "output_type": "stream",
     "text": [
      "Nissan (55)\n",
      "Jeep (6)\n",
      "MG (4)\n",
      "Bmw (1)\n"
     ]
    }
   ],
   "source": [
    "get_data()"
   ]
  },
  {
   "cell_type": "code",
   "execution_count": null,
   "metadata": {},
   "outputs": [],
   "source": []
  }
 ],
 "metadata": {
  "kernelspec": {
   "display_name": "Python 3",
   "language": "python",
   "name": "python3"
  },
  "language_info": {
   "codemirror_mode": {
    "name": "ipython",
    "version": 3
   },
   "file_extension": ".py",
   "mimetype": "text/x-python",
   "name": "python",
   "nbconvert_exporter": "python",
   "pygments_lexer": "ipython3",
   "version": "3.8.10"
  },
  "orig_nbformat": 4
 },
 "nbformat": 4,
 "nbformat_minor": 2
}
